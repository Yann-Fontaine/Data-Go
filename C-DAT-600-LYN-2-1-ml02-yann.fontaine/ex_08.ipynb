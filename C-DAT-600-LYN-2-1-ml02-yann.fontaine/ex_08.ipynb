{
 "cells": [
  {
   "cell_type": "code",
   "execution_count": 1,
   "metadata": {},
   "outputs": [],
   "source": [
    "import pandas as pd\n",
    "import numpy as np\n",
    "from sklearn.model_selection import train_test_split\n",
    "from sklearn.neighbors import KNeighborsClassifier\n",
    "from sklearn.model_selection import cross_val_predict\n",
    "from sklearn.metrics import f1_score"
   ]
  },
  {
   "cell_type": "code",
   "execution_count": 2,
   "metadata": {},
   "outputs": [],
   "source": [
    "df = pd.read_csv('crabs_dataset.csv')"
   ]
  },
  {
   "cell_type": "code",
   "execution_count": 3,
   "metadata": {},
   "outputs": [],
   "source": [
    "df = pd.read_csv('crabs_dataset.csv')\n",
    "X = df.iloc[:,[3,4,5,6,7]].to_numpy()\n",
    "y = df.iloc[:, [0,1]].to_numpy()"
   ]
  },
  {
   "cell_type": "code",
   "execution_count": 4,
   "metadata": {},
   "outputs": [],
   "source": [
    "X_train, X_test, y_train, y_test = train_test_split(X, y, test_size=0.25, random_state=0)"
   ]
  },
  {
   "cell_type": "code",
   "execution_count": 5,
   "metadata": {},
   "outputs": [],
   "source": [
    "y_train_int = []\n",
    "for couple in y_train:\n",
    "    if (couple[0] == 'B' and couple[1] == 'M'):\n",
    "        y_train_int.append([0,0])\n",
    "    elif (couple[0] == 'B' and couple[1] == 'F'):\n",
    "        y_train_int.append([0,1])\n",
    "    elif (couple[0] == 'O' and couple[1] == 'M'):\n",
    "        y_train_int.append([1,0])\n",
    "    elif (couple[0] == 'O' and couple[1] == 'F'):\n",
    "        y_train_int.append([1,1])       \n",
    "y_train_int = np.array(y_train_int)"
   ]
  },
  {
   "cell_type": "code",
   "execution_count": 7,
   "metadata": {},
   "outputs": [
    {
     "data": {
      "text/plain": [
       "0.8347222222222221"
      ]
     },
     "execution_count": 7,
     "metadata": {},
     "output_type": "execute_result"
    }
   ],
   "source": [
    "model = KNeighborsClassifier(n_neighbors=5)\n",
    "model_int = model.fit(X_train, y_train_int)\n",
    "y_int_CVP = cross_val_predict(model_int, X_train, y_train_int, cv=3)\n",
    "f1_score(y_train_int, y_int_CVP, average='macro')"
   ]
  },
  {
   "cell_type": "code",
   "execution_count": 8,
   "metadata": {
    "scrolled": true
   },
   "outputs": [
    {
     "data": {
      "text/plain": [
       "array([[0, 1],\n",
       "       [1, 1],\n",
       "       [1, 0],\n",
       "       [1, 1],\n",
       "       [1, 1],\n",
       "       [1, 1],\n",
       "       [0, 0],\n",
       "       [1, 0],\n",
       "       [0, 0],\n",
       "       [0, 0],\n",
       "       [0, 1],\n",
       "       [1, 0],\n",
       "       [1, 1],\n",
       "       [0, 1],\n",
       "       [0, 1],\n",
       "       [0, 0],\n",
       "       [0, 0],\n",
       "       [1, 0],\n",
       "       [0, 0],\n",
       "       [0, 1],\n",
       "       [1, 1],\n",
       "       [1, 0],\n",
       "       [0, 0],\n",
       "       [1, 1],\n",
       "       [0, 1],\n",
       "       [1, 0],\n",
       "       [1, 0],\n",
       "       [1, 1],\n",
       "       [1, 1],\n",
       "       [0, 0],\n",
       "       [0, 0],\n",
       "       [0, 0],\n",
       "       [1, 1],\n",
       "       [1, 0],\n",
       "       [0, 0],\n",
       "       [1, 1],\n",
       "       [1, 0],\n",
       "       [0, 0],\n",
       "       [0, 1],\n",
       "       [0, 1],\n",
       "       [1, 0],\n",
       "       [0, 0],\n",
       "       [0, 0],\n",
       "       [1, 0],\n",
       "       [1, 1],\n",
       "       [0, 1],\n",
       "       [0, 1],\n",
       "       [0, 1],\n",
       "       [1, 0],\n",
       "       [1, 0]])"
      ]
     },
     "execution_count": 8,
     "metadata": {},
     "output_type": "execute_result"
    }
   ],
   "source": [
    "model_int.predict(X_test)"
   ]
  },
  {
   "cell_type": "code",
   "execution_count": 9,
   "metadata": {},
   "outputs": [],
   "source": [
    "model_letter = model.fit(X_train, y_train)\n",
    "y_letter_CVP = cross_val_predict(model_letter, X_train, y_train, cv=3)"
   ]
  },
  {
   "cell_type": "code",
   "execution_count": 10,
   "metadata": {
    "scrolled": true
   },
   "outputs": [
    {
     "data": {
      "text/plain": [
       "array([['B', 'F'],\n",
       "       ['O', 'F'],\n",
       "       ['O', 'M'],\n",
       "       ['O', 'F'],\n",
       "       ['O', 'F'],\n",
       "       ['O', 'F'],\n",
       "       ['B', 'M'],\n",
       "       ['O', 'M'],\n",
       "       ['B', 'M'],\n",
       "       ['B', 'M'],\n",
       "       ['B', 'F'],\n",
       "       ['O', 'M'],\n",
       "       ['O', 'F'],\n",
       "       ['B', 'F'],\n",
       "       ['B', 'F'],\n",
       "       ['B', 'M'],\n",
       "       ['B', 'M'],\n",
       "       ['O', 'M'],\n",
       "       ['B', 'M'],\n",
       "       ['B', 'F'],\n",
       "       ['O', 'F'],\n",
       "       ['O', 'M'],\n",
       "       ['B', 'M'],\n",
       "       ['O', 'F'],\n",
       "       ['B', 'F'],\n",
       "       ['O', 'M'],\n",
       "       ['O', 'M'],\n",
       "       ['O', 'F'],\n",
       "       ['O', 'F'],\n",
       "       ['B', 'M'],\n",
       "       ['B', 'M'],\n",
       "       ['B', 'M'],\n",
       "       ['O', 'F'],\n",
       "       ['O', 'M'],\n",
       "       ['B', 'M'],\n",
       "       ['O', 'F'],\n",
       "       ['O', 'M'],\n",
       "       ['B', 'M'],\n",
       "       ['B', 'F'],\n",
       "       ['B', 'F'],\n",
       "       ['O', 'M'],\n",
       "       ['B', 'M'],\n",
       "       ['B', 'M'],\n",
       "       ['O', 'M'],\n",
       "       ['O', 'F'],\n",
       "       ['B', 'F'],\n",
       "       ['B', 'F'],\n",
       "       ['B', 'F'],\n",
       "       ['O', 'M'],\n",
       "       ['O', 'M']], dtype=object)"
      ]
     },
     "execution_count": 10,
     "metadata": {},
     "output_type": "execute_result"
    }
   ],
   "source": [
    "model_letter.predict(X_test)"
   ]
  }
 ],
 "metadata": {
  "kernelspec": {
   "display_name": "Python 3",
   "language": "python",
   "name": "python3"
  },
  "language_info": {
   "codemirror_mode": {
    "name": "ipython",
    "version": 3
   },
   "file_extension": ".py",
   "mimetype": "text/x-python",
   "name": "python",
   "nbconvert_exporter": "python",
   "pygments_lexer": "ipython3",
   "version": "3.9.1"
  }
 },
 "nbformat": 4,
 "nbformat_minor": 4
}
