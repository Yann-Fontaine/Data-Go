{
 "cells": [
  {
   "cell_type": "code",
   "execution_count": 1,
   "metadata": {},
   "outputs": [],
   "source": [
    "import pandas as pd\n",
    "import numpy as np\n",
    "import matplotlib.pyplot as plt\n",
    "from sklearn.pipeline import make_pipeline\n",
    "from sklearn.preprocessing import StandardScaler\n",
    "from sklearn.ensemble import RandomForestClassifier\n",
    "from sklearn.model_selection import GridSearchCV\n",
    "from sklearn.model_selection import cross_val_predict\n",
    "from sklearn.metrics import accuracy_score, classification_report"
   ]
  },
  {
   "cell_type": "code",
   "execution_count": 2,
   "metadata": {},
   "outputs": [],
   "source": [
    "df_train = pd.read_csv('fashion-mnist_train.csv')\n",
    "df_test = pd.read_csv('fashion-mnist_test.csv')"
   ]
  },
  {
   "cell_type": "code",
   "execution_count": 3,
   "metadata": {},
   "outputs": [],
   "source": [
    "X_train = df_train.drop(columns='label').to_numpy()\n",
    "y_train = df_train['label'].to_numpy()\n",
    "X_test = df_test.drop(columns='label').to_numpy()\n",
    "y_test = df_test['label'].to_numpy()"
   ]
  },
  {
   "cell_type": "code",
   "execution_count": 4,
   "metadata": {},
   "outputs": [],
   "source": [
    "classes = ['T-shirt/top', 'Trouser', 'Pullover',\n",
    "           'Dress', 'Coat', 'Sandal', 'Shirt',\n",
    "           'Sneaker', 'Bag', 'Ankle boot']"
   ]
  },
  {
   "cell_type": "markdown",
   "metadata": {},
   "source": [
    "forest_test = RandomForestClassifier(random_state=0)\n",
    "\n",
    "param_grid = {\n",
    "    'n_estimators': [200],\n",
    "    'max_features': ['auto', 'sqrt', 'log2'],\n",
    "    'max_depth': [8],\n",
    "    'criterion': ['gini', 'entropy']\n",
    "}\n",
    "test = GridSearchCV(forest_test, param_grid, cv=5, n_jobs=-1, verbose=2)\n",
    "test.fit(X_train, y_train)\n",
    "test.best_params_"
   ]
  },
  {
   "cell_type": "code",
   "execution_count": 5,
   "metadata": {},
   "outputs": [
    {
     "name": "stderr",
     "output_type": "stream",
     "text": [
      "[Parallel(n_jobs=-1)]: Using backend LokyBackend with 8 concurrent workers.\n",
      "[Parallel(n_jobs=-1)]: Done   2 out of   5 | elapsed:  2.7min remaining:  4.1min\n",
      "[Parallel(n_jobs=-1)]: Done   5 out of   5 | elapsed:  2.7min remaining:    0.0s\n",
      "[Parallel(n_jobs=-1)]: Done   5 out of   5 | elapsed:  2.7min finished\n"
     ]
    },
    {
     "name": "stdout",
     "output_type": "stream",
     "text": [
      "              precision    recall  f1-score   support\n",
      "\n",
      " T-shirt/top     0.8151    0.8697    0.8415      6000\n",
      "     Trouser     0.9940    0.9637    0.9786      6000\n",
      "    Pullover     0.7807    0.8068    0.7935      6000\n",
      "       Dress     0.8757    0.9182    0.8964      6000\n",
      "        Coat     0.7609    0.8348    0.7962      6000\n",
      "      Sandal     0.9746    0.9520    0.9632      6000\n",
      "       Shirt     0.7505    0.5770    0.6524      6000\n",
      "     Sneaker     0.9292    0.9390    0.9341      6000\n",
      "         Bag     0.9573    0.9725    0.9649      6000\n",
      "  Ankle boot     0.9411    0.9527    0.9468      6000\n",
      "\n",
      "    accuracy                         0.8786     60000\n",
      "   macro avg     0.8779    0.8786    0.8768     60000\n",
      "weighted avg     0.8779    0.8786    0.8768     60000\n",
      "\n"
     ]
    }
   ],
   "source": [
    "forest = RandomForestClassifier(n_estimators=300, max_features='auto', criterion='entropy', max_depth=15, random_state=0)\n",
    "pipe = make_pipeline(StandardScaler(), forest)\n",
    "y_pred_model = cross_val_predict(pipe, X_train, y_train,\n",
    "                                 cv=5, n_jobs=-1, verbose=2)\n",
    "print(classification_report(y_train, y_pred_model, digits=4, target_names=classes))"
   ]
  },
  {
   "cell_type": "markdown",
   "metadata": {},
   "source": [
    "pipe.fit(X_train, y_train)\n",
    "y_pred = pipe.predict(X_test)\n",
    "print(classification_report(y_test, y_pred, digits=4, target_names=classes))"
   ]
  }
 ],
 "metadata": {
  "kernelspec": {
   "display_name": "Python 3",
   "language": "python",
   "name": "python3"
  },
  "language_info": {
   "codemirror_mode": {
    "name": "ipython",
    "version": 3
   },
   "file_extension": ".py",
   "mimetype": "text/x-python",
   "name": "python",
   "nbconvert_exporter": "python",
   "pygments_lexer": "ipython3",
   "version": "3.9.1"
  }
 },
 "nbformat": 4,
 "nbformat_minor": 4
}
