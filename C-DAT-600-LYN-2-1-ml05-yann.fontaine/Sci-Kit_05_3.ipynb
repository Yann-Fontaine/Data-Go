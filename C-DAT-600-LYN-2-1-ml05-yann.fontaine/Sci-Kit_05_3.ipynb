{
 "cells": [
  {
   "cell_type": "code",
   "execution_count": 1,
   "metadata": {},
   "outputs": [],
   "source": [
    "import pandas as pd\n",
    "import numpy as np\n",
    "import matplotlib.pyplot as plt\n",
    "from sklearn.pipeline import make_pipeline\n",
    "from sklearn.preprocessing import StandardScaler\n",
    "from sklearn.ensemble import GradientBoostingClassifier\n",
    "from sklearn.model_selection import GridSearchCV\n",
    "from sklearn.model_selection import cross_val_predict\n",
    "from sklearn.metrics import accuracy_score, classification_report"
   ]
  },
  {
   "cell_type": "code",
   "execution_count": 2,
   "metadata": {},
   "outputs": [],
   "source": [
    "df_train = pd.read_csv('fashion-mnist_train.csv')\n",
    "df_test = pd.read_csv('fashion-mnist_test.csv')"
   ]
  },
  {
   "cell_type": "code",
   "execution_count": 3,
   "metadata": {},
   "outputs": [],
   "source": [
    "X_train = df_train.drop(columns='label').to_numpy()\n",
    "y_train = df_train['label'].to_numpy()\n",
    "X_test = df_test.drop(columns='label').to_numpy()\n",
    "y_test = df_test['label'].to_numpy()"
   ]
  },
  {
   "cell_type": "markdown",
   "metadata": {},
   "source": [
    "gbc_test = GradientBoostingClassifier(random_state=0)\n",
    "\n",
    "param_grid = {\n",
    "    'loss': ['deviance'],\n",
    "    'n_estimators': [200],\n",
    "    'max_features': ['auto', 'sqrt', 'log2'],\n",
    "    'max_depth': [8],\n",
    "    'criterion': ['friedman_mse', 'mae'],\n",
    "    'learning_rate': [1.0]\n",
    "}\n",
    "test = GridSearchCV(gbc_test, param_grid, cv=3, n_jobs=-1, verbose=2)\n",
    "test.fit(X_train, y_train)\n",
    "test.best_params_"
   ]
  },
  {
   "cell_type": "code",
   "execution_count": 6,
   "metadata": {},
   "outputs": [
    {
     "name": "stderr",
     "output_type": "stream",
     "text": [
      "[Parallel(n_jobs=-1)]: Using backend LokyBackend with 8 concurrent workers.\n",
      "[Parallel(n_jobs=-1)]: Done   3 out of   8 | elapsed: 431.8min remaining: 719.6min\n",
      "[Parallel(n_jobs=-1)]: Done   8 out of   8 | elapsed: 433.3min remaining:    0.0s\n",
      "[Parallel(n_jobs=-1)]: Done   8 out of   8 | elapsed: 433.3min finished\n"
     ]
    },
    {
     "data": {
      "text/plain": [
       "'              precision    recall  f1-score   support\\n\\n T-shirt/top     0.7490    0.7543    0.7516      6000\\n     Trouser     0.9569    0.9277    0.9420      6000\\n    Pullover     0.6961    0.7113    0.7037      6000\\n       Dress     0.8145    0.8117    0.8131      6000\\n        Coat     0.7018    0.7112    0.7065      6000\\n      Sandal     0.8820    0.9053    0.8935      6000\\n       Shirt     0.5767    0.5950    0.5857      6000\\n     Sneaker     0.8879    0.8868    0.8874      6000\\n         Bag     0.9038    0.8550    0.8787      6000\\n  Ankle boot     0.8923    0.8822    0.8872      6000\\n\\n    accuracy                         0.8041     60000\\n   macro avg     0.8061    0.8040    0.8049     60000\\nweighted avg     0.8061    0.8041    0.8049     60000\\n'"
      ]
     },
     "execution_count": 6,
     "metadata": {},
     "output_type": "execute_result"
    }
   ],
   "source": [
    "classes = ['T-shirt/top', 'Trouser', 'Pullover',\n",
    "           'Dress', 'Coat', 'Sandal', 'Shirt',\n",
    "           'Sneaker', 'Bag', 'Ankle boot']\n",
    "gbc = GradientBoostingClassifier(loss='deviance', n_estimators=100, max_features='auto', max_depth=8, criterion='friedman_mse', learning_rate=1.0, random_state=0)\n",
    "pipe = make_pipeline(StandardScaler(), gbc)\n",
    "y_pred_model = cross_val_predict(pipe, X_train, y_train,\n",
    "                                 cv=8, n_jobs=-1, verbose=2)\n",
    "classification_report(y_train, y_pred_model, digits=4, target_names=classes)"
   ]
  },
  {
   "cell_type": "code",
   "execution_count": null,
   "metadata": {},
   "outputs": [],
   "source": [
    "pipe.fit(X_train, y_train)\n",
    "y_pred = pipe.predict(X_test)\n",
    "print(classification_report(y_test, y_pred, digits=4, target_names=classes))"
   ]
  }
 ],
 "metadata": {
  "kernelspec": {
   "display_name": "Python 3",
   "language": "python",
   "name": "python3"
  },
  "language_info": {
   "codemirror_mode": {
    "name": "ipython",
    "version": 3
   },
   "file_extension": ".py",
   "mimetype": "text/x-python",
   "name": "python",
   "nbconvert_exporter": "python",
   "pygments_lexer": "ipython3",
   "version": "3.9.1"
  }
 },
 "nbformat": 4,
 "nbformat_minor": 4
}
