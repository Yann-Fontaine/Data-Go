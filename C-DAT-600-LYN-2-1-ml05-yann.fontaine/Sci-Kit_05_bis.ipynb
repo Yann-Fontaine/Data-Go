{
 "cells": [
  {
   "cell_type": "code",
   "execution_count": 7,
   "metadata": {},
   "outputs": [],
   "source": [
    "import pandas as pd\n",
    "import numpy as np\n",
    "import matplotlib.pyplot as plt\n",
    "from sklearn.pipeline import make_pipeline\n",
    "from sklearn.preprocessing import StandardScaler\n",
    "from sklearn.ensemble import BaggingClassifier\n",
    "from sklearn.neighbors import KNeighborsClassifier\n",
    "from sklearn.model_selection import GridSearchCV\n",
    "from sklearn.model_selection import cross_val_predict\n",
    "from sklearn.metrics import accuracy_score, classification_report"
   ]
  },
  {
   "cell_type": "code",
   "execution_count": 2,
   "metadata": {},
   "outputs": [],
   "source": [
    "df_train = pd.read_csv('fashion-mnist_train.csv')\n",
    "df_test = pd.read_csv('fashion-mnist_test.csv')"
   ]
  },
  {
   "cell_type": "code",
   "execution_count": 3,
   "metadata": {},
   "outputs": [],
   "source": [
    "X_train = df_train.drop(columns='label').to_numpy()\n",
    "y_train = df_train['label'].to_numpy()\n",
    "X_test = df_test.drop(columns='label').to_numpy()\n",
    "y_test = df_test['label'].to_numpy()"
   ]
  },
  {
   "cell_type": "code",
   "execution_count": 12,
   "metadata": {},
   "outputs": [
    {
     "name": "stderr",
     "output_type": "stream",
     "text": [
      "[Parallel(n_jobs=-1)]: Using backend LokyBackend with 8 concurrent workers.\n",
      "[Parallel(n_jobs=-1)]: Done   3 out of   3 | elapsed:  4.5min finished\n"
     ]
    },
    {
     "name": "stdout",
     "output_type": "stream",
     "text": [
      "              precision    recall  f1-score   support\n",
      "\n",
      " T-shirt/top     0.7769    0.8543    0.8138      6000\n",
      "     Trouser     0.9904    0.9612    0.9756      6000\n",
      "    Pullover     0.7596    0.7688    0.7642      6000\n",
      "       Dress     0.8863    0.8657    0.8759      6000\n",
      "        Coat     0.7511    0.7682    0.7596      6000\n",
      "      Sandal     0.9901    0.8192    0.8966      6000\n",
      "       Shirt     0.6239    0.6028    0.6132      6000\n",
      "     Sneaker     0.8609    0.9468    0.9018      6000\n",
      "         Bag     0.9788    0.9295    0.9535      6000\n",
      "  Ankle boot     0.8932    0.9605    0.9256      6000\n",
      "\n",
      "    accuracy                         0.8477     60000\n",
      "   macro avg     0.8511    0.8477    0.8480     60000\n",
      "weighted avg     0.8511    0.8477    0.8480     60000\n",
      "\n"
     ]
    }
   ],
   "source": [
    "classes = ['T-shirt/top', 'Trouser', 'Pullover',\n",
    "           'Dress', 'Coat', 'Sandal', 'Shirt',\n",
    "           'Sneaker', 'Bag', 'Ankle boot']\n",
    "bag_model = BaggingClassifier(KNeighborsClassifier(n_neighbors=7, weights='distance'), n_estimators=3)\n",
    "pipe = make_pipeline(StandardScaler(), bag_model)\n",
    "y_pred_model = cross_val_predict(pipe, X_train, y_train,\n",
    "                                 cv=3, n_jobs=-1, verbose=2)\n",
    "print(classification_report(y_train, y_pred_model, digits=4, target_names=classes))"
   ]
  },
  {
   "cell_type": "code",
   "execution_count": 17,
   "metadata": {},
   "outputs": [
    {
     "name": "stderr",
     "output_type": "stream",
     "text": [
      "[Parallel(n_jobs=-1)]: Using backend LokyBackend with 8 concurrent workers.\n",
      "[Parallel(n_jobs=-1)]: Done   3 out of   3 | elapsed:  8.5min finished\n"
     ]
    },
    {
     "name": "stdout",
     "output_type": "stream",
     "text": [
      "              precision    recall  f1-score   support\n",
      "\n",
      " T-shirt/top     0.8167    0.8590    0.8373      6000\n",
      "     Trouser     0.9909    0.9577    0.9740      6000\n",
      "    Pullover     0.7736    0.8025    0.7878      6000\n",
      "       Dress     0.8673    0.9018    0.8842      6000\n",
      "        Coat     0.7559    0.8202    0.7867      6000\n",
      "      Sandal     0.9596    0.9463    0.9529      6000\n",
      "       Shirt     0.7287    0.5863    0.6498      6000\n",
      "     Sneaker     0.9255    0.9415    0.9334      6000\n",
      "         Bag     0.9465    0.9637    0.9550      6000\n",
      "  Ankle boot     0.9486    0.9422    0.9454      6000\n",
      "\n",
      "    accuracy                         0.8721     60000\n",
      "   macro avg     0.8713    0.8721    0.8707     60000\n",
      "weighted avg     0.8713    0.8721    0.8707     60000\n",
      "\n"
     ]
    }
   ],
   "source": [
    "bag_tree_model = BaggingClassifier(DecisionTreeClassifier(criterion='entropy', max_depth=15, min_samples_leaf=4, min_samples_split=8), n_estimators=50)\n",
    "tree_pipe = make_pipeline(StandardScaler(), bag_tree_model)\n",
    "y_pred_tree = cross_val_predict(tree_pipe, X_train, y_train,\n",
    "                                 cv=3, n_jobs=-1, verbose=2)\n",
    "print(classification_report(y_train, y_pred_tree, digits=4, target_names=classes))"
   ]
  },
  {
   "cell_type": "markdown",
   "metadata": {},
   "source": [
    "pipe.fit(X_train, y_train)\n",
    "y_pred = pipe.predict(X_test)\n",
    "print(classification_report(y_test, y_pred_knn, digits=4, target_names=classes))"
   ]
  },
  {
   "cell_type": "markdown",
   "metadata": {},
   "source": [
    "bagknn_model = BaggingClassifier(KNeighborsClassifier(), n_estimators=10)\n",
    "pipeknn = make_pipeline(StandardScaler(), bagknn_model)\n",
    "y_pred_knnmodel = cross_val_predict(pipeknn, X_train, y_train,\n",
    "                                 cv=5, n_jobs=-1, verbose=2)\n",
    "print(classification_report(y_train, y_pred_knnmodel, digits=4, target_names=classes))"
   ]
  },
  {
   "cell_type": "markdown",
   "metadata": {},
   "source": [
    "pipeknn.fit(X_train, y_train)\n",
    "y_pred_knn = pipeknn.predict(X_test)\n",
    "print(classification_report(y_test, y_pred_knn, digits=4, target_names=classes))"
   ]
  }
 ],
 "metadata": {
  "kernelspec": {
   "display_name": "Python 3",
   "language": "python",
   "name": "python3"
  },
  "language_info": {
   "codemirror_mode": {
    "name": "ipython",
    "version": 3
   },
   "file_extension": ".py",
   "mimetype": "text/x-python",
   "name": "python",
   "nbconvert_exporter": "python",
   "pygments_lexer": "ipython3",
   "version": "3.9.1"
  }
 },
 "nbformat": 4,
 "nbformat_minor": 4
}
