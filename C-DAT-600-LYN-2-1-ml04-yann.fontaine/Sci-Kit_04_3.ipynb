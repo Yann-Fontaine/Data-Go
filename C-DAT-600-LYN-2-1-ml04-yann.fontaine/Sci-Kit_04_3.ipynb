{
 "cells": [
  {
   "cell_type": "code",
   "execution_count": 1,
   "metadata": {},
   "outputs": [],
   "source": [
    "import numpy as np\n",
    "from sklearn.model_selection import train_test_split\n",
    "import matplotlib.pyplot as plt\n",
    "from sklearn.tree import DecisionTreeRegressor, plot_tree, export_graphviz\n",
    "from graphviz import Source\n",
    "from pydotplus import graph_from_dot_data\n",
    "from sklearn.model_selection import cross_val_score\n",
    "from sklearn.metrics import r2_score"
   ]
  },
  {
   "cell_type": "markdown",
   "metadata": {},
   "source": [
    "# EXERCISE 7"
   ]
  },
  {
   "cell_type": "code",
   "execution_count": 2,
   "metadata": {},
   "outputs": [
    {
     "data": {
      "text/plain": [
       "<matplotlib.collections.PathCollection at 0x7f1de22f4940>"
      ]
     },
     "execution_count": 2,
     "metadata": {},
     "output_type": "execute_result"
    },
    {
     "data": {
      "image/png": "[encoded data removed]",
      "text/plain": [
       "<Figure size 432x288 with 1 Axes>"
      ]
     },
     "metadata": {
      "needs_background": "light"
     },
     "output_type": "display_data"
    }
   ],
   "source": [
    "m = 100\n",
    "X = 6 * np.random.rand(m, 1) - 3\n",
    "y = 0.5 * X**2 + X + 2 + np.random.randn(m, 1)\n",
    "X_train, X_test, y_train, y_test = train_test_split(X, y, test_size=0.25)\n",
    "plt.scatter(X, y, s=10)\n",
    "plt.scatter(X_train, y_train, s=10)"
   ]
  },
  {
   "cell_type": "code",
   "execution_count": 6,
   "metadata": {},
   "outputs": [
    {
     "data": {
      "text/plain": [
       "array([0.70214306, 0.65679496, 0.83618425, 0.71930138, 0.6904042 ])"
      ]
     },
     "execution_count": 6,
     "metadata": {},
     "output_type": "execute_result"
    }
   ],
   "source": [
    "regressor = DecisionTreeRegressor(max_depth=2)\n",
    "regressor = regressor.fit(X_train, y_train)\n",
    "cross_val_score(regressor, X_train, y_train)"
   ]
  },
  {
   "cell_type": "code",
   "execution_count": 4,
   "metadata": {},
   "outputs": [
    {
     "data": {
      "text/plain": [
       "0.6921472303886813"
      ]
     },
     "execution_count": 4,
     "metadata": {},
     "output_type": "execute_result"
    }
   ],
   "source": [
    "y_pred = regressor.predict(X_test)\n",
    "r2_score(y_test, y_pred)"
   ]
  },
  {
   "cell_type": "code",
   "execution_count": 7,
   "metadata": {},
   "outputs": [
    {
     "data": {
      "image/svg+xml": [
       "<?xml version=\"1.0\" encoding=\"UTF-8\" standalone=\"no\"?>\n",
       "<!DOCTYPE svg PUBLIC \"-//W3C//DTD SVG 1.1//EN\"\n",
       " \"http://www.w3.org/Graphics/SVG/1.1/DTD/svg11.dtd\">\n",
       "<!-- Generated by graphviz version 2.44.0 (0)\n",
       " -->\n",
       "<!-- Title: Tree Pages: 1 -->\n",
       "<svg width=\"454pt\" height=\"269pt\"\n",
       " viewBox=\"0.00 0.00 454.00 269.00\" xmlns=\"http://www.w3.org/2000/svg\" xmlns:xlink=\"http://www.w3.org/1999/xlink\">\n",
       "<g id=\"graph0\" class=\"graph\" transform=\"scale(1 1) rotate(0) translate(4 265)\">\n",
       "<title>Tree</title>\n",
       "<polygon fill=\"white\" stroke=\"transparent\" points=\"-4,4 -4,-265 450,-265 450,4 -4,4\"/>\n",
       "<!-- 0 -->\n",
       "<g id=\"node1\" class=\"node\">\n",
       "<title>0</title>\n",
       "<path fill=\"#f8dcc8\" stroke=\"black\" d=\"M260,-261C260,-261 186,-261 186,-261 180,-261 174,-255 174,-249 174,-249 174,-205 174,-205 174,-199 180,-193 186,-193 186,-193 260,-193 260,-193 266,-193 272,-199 272,-205 272,-205 272,-249 272,-249 272,-255 266,-261 260,-261\"/>\n",
       "<text text-anchor=\"start\" x=\"194\" y=\"-245.8\" font-family=\"helvetica\" font-size=\"14.00\">X ≤ 1.657</text>\n",
       "<text text-anchor=\"start\" x=\"185\" y=\"-230.8\" font-family=\"helvetica\" font-size=\"14.00\">mse = 4.593</text>\n",
       "<text text-anchor=\"start\" x=\"182\" y=\"-215.8\" font-family=\"helvetica\" font-size=\"14.00\">samples = 75</text>\n",
       "<text text-anchor=\"start\" x=\"182\" y=\"-200.8\" font-family=\"helvetica\" font-size=\"14.00\">value = 4.037</text>\n",
       "</g>\n",
       "<!-- 1 -->\n",
       "<g id=\"node2\" class=\"node\">\n",
       "<title>1</title>\n",
       "<path fill=\"#fdf4ee\" stroke=\"black\" d=\"M202,-157C202,-157 128,-157 128,-157 122,-157 116,-151 116,-145 116,-145 116,-101 116,-101 116,-95 122,-89 128,-89 128,-89 202,-89 202,-89 208,-89 214,-95 214,-101 214,-101 214,-145 214,-145 214,-151 208,-157 202,-157\"/>\n",
       "<text text-anchor=\"start\" x=\"133.5\" y=\"-141.8\" font-family=\"helvetica\" font-size=\"14.00\">X ≤ &#45;0.165</text>\n",
       "<text text-anchor=\"start\" x=\"127\" y=\"-126.8\" font-family=\"helvetica\" font-size=\"14.00\">mse = 1.104</text>\n",
       "<text text-anchor=\"start\" x=\"124\" y=\"-111.8\" font-family=\"helvetica\" font-size=\"14.00\">samples = 51</text>\n",
       "<text text-anchor=\"start\" x=\"124\" y=\"-96.8\" font-family=\"helvetica\" font-size=\"14.00\">value = 2.829</text>\n",
       "</g>\n",
       "<!-- 0&#45;&gt;1 -->\n",
       "<g id=\"edge1\" class=\"edge\">\n",
       "<title>0&#45;&gt;1</title>\n",
       "<path fill=\"none\" stroke=\"black\" d=\"M204.17,-192.88C199.31,-184.33 194.01,-175.01 188.92,-166.07\"/>\n",
       "<polygon fill=\"black\" stroke=\"black\" points=\"191.92,-164.26 183.93,-157.3 185.84,-167.72 191.92,-164.26\"/>\n",
       "<text text-anchor=\"middle\" x=\"177.31\" y=\"-177.7\" font-family=\"helvetica\" font-size=\"14.00\">True</text>\n",
       "</g>\n",
       "<!-- 4 -->\n",
       "<g id=\"node5\" class=\"node\">\n",
       "<title>4</title>\n",
       "<path fill=\"#eda978\" stroke=\"black\" d=\"M318,-157C318,-157 244,-157 244,-157 238,-157 232,-151 232,-145 232,-145 232,-101 232,-101 232,-95 238,-89 244,-89 244,-89 318,-89 318,-89 324,-89 330,-95 330,-101 330,-101 330,-145 330,-145 330,-151 324,-157 318,-157\"/>\n",
       "<text text-anchor=\"start\" x=\"252\" y=\"-141.8\" font-family=\"helvetica\" font-size=\"14.00\">X ≤ 2.753</text>\n",
       "<text text-anchor=\"start\" x=\"243\" y=\"-126.8\" font-family=\"helvetica\" font-size=\"14.00\">mse = 2.306</text>\n",
       "<text text-anchor=\"start\" x=\"240\" y=\"-111.8\" font-family=\"helvetica\" font-size=\"14.00\">samples = 24</text>\n",
       "<text text-anchor=\"start\" x=\"240\" y=\"-96.8\" font-family=\"helvetica\" font-size=\"14.00\">value = 6.606</text>\n",
       "</g>\n",
       "<!-- 0&#45;&gt;4 -->\n",
       "<g id=\"edge4\" class=\"edge\">\n",
       "<title>0&#45;&gt;4</title>\n",
       "<path fill=\"none\" stroke=\"black\" d=\"M241.83,-192.88C246.69,-184.33 251.99,-175.01 257.08,-166.07\"/>\n",
       "<polygon fill=\"black\" stroke=\"black\" points=\"260.16,-167.72 262.07,-157.3 254.08,-164.26 260.16,-167.72\"/>\n",
       "<text text-anchor=\"middle\" x=\"268.69\" y=\"-177.7\" font-family=\"helvetica\" font-size=\"14.00\">False</text>\n",
       "</g>\n",
       "<!-- 2 -->\n",
       "<g id=\"node3\" class=\"node\">\n",
       "<title>2</title>\n",
       "<path fill=\"#ffffff\" stroke=\"black\" d=\"M86,-53C86,-53 12,-53 12,-53 6,-53 0,-47 0,-41 0,-41 0,-12 0,-12 0,-6 6,0 12,0 12,0 86,0 86,0 92,0 98,-6 98,-12 98,-12 98,-41 98,-41 98,-47 92,-53 86,-53\"/>\n",
       "<text text-anchor=\"start\" x=\"11\" y=\"-37.8\" font-family=\"helvetica\" font-size=\"14.00\">mse = 0.652</text>\n",
       "<text text-anchor=\"start\" x=\"8\" y=\"-22.8\" font-family=\"helvetica\" font-size=\"14.00\">samples = 30</text>\n",
       "<text text-anchor=\"start\" x=\"8\" y=\"-7.8\" font-family=\"helvetica\" font-size=\"14.00\">value = 2.279</text>\n",
       "</g>\n",
       "<!-- 1&#45;&gt;2 -->\n",
       "<g id=\"edge2\" class=\"edge\">\n",
       "<title>1&#45;&gt;2</title>\n",
       "<path fill=\"none\" stroke=\"black\" d=\"M124.43,-88.95C112.75,-79.43 100.03,-69.07 88.42,-59.62\"/>\n",
       "<polygon fill=\"black\" stroke=\"black\" points=\"90.56,-56.84 80.59,-53.24 86.13,-62.27 90.56,-56.84\"/>\n",
       "</g>\n",
       "<!-- 3 -->\n",
       "<g id=\"node4\" class=\"node\">\n",
       "<title>3</title>\n",
       "<path fill=\"#fae4d5\" stroke=\"black\" d=\"M202,-53C202,-53 128,-53 128,-53 122,-53 116,-47 116,-41 116,-41 116,-12 116,-12 116,-6 122,0 128,0 128,0 202,0 202,0 208,0 214,-6 214,-12 214,-12 214,-41 214,-41 214,-47 208,-53 202,-53\"/>\n",
       "<text text-anchor=\"start\" x=\"127\" y=\"-37.8\" font-family=\"helvetica\" font-size=\"14.00\">mse = 0.702</text>\n",
       "<text text-anchor=\"start\" x=\"124\" y=\"-22.8\" font-family=\"helvetica\" font-size=\"14.00\">samples = 21</text>\n",
       "<text text-anchor=\"start\" x=\"124\" y=\"-7.8\" font-family=\"helvetica\" font-size=\"14.00\">value = 3.614</text>\n",
       "</g>\n",
       "<!-- 1&#45;&gt;3 -->\n",
       "<g id=\"edge3\" class=\"edge\">\n",
       "<title>1&#45;&gt;3</title>\n",
       "<path fill=\"none\" stroke=\"black\" d=\"M165,-88.95C165,-80.72 165,-71.85 165,-63.48\"/>\n",
       "<polygon fill=\"black\" stroke=\"black\" points=\"168.5,-63.24 165,-53.24 161.5,-63.24 168.5,-63.24\"/>\n",
       "</g>\n",
       "<!-- 5 -->\n",
       "<g id=\"node6\" class=\"node\">\n",
       "<title>5</title>\n",
       "<path fill=\"#f0b68c\" stroke=\"black\" d=\"M318,-53C318,-53 244,-53 244,-53 238,-53 232,-47 232,-41 232,-41 232,-12 232,-12 232,-6 238,0 244,0 244,0 318,0 318,0 324,0 330,-6 330,-12 330,-12 330,-41 330,-41 330,-47 324,-53 318,-53\"/>\n",
       "<text text-anchor=\"start\" x=\"246.5\" y=\"-37.8\" font-family=\"helvetica\" font-size=\"14.00\">mse = 1.13</text>\n",
       "<text text-anchor=\"start\" x=\"240\" y=\"-22.8\" font-family=\"helvetica\" font-size=\"14.00\">samples = 18</text>\n",
       "<text text-anchor=\"start\" x=\"243.5\" y=\"-7.8\" font-family=\"helvetica\" font-size=\"14.00\">value = 5.94</text>\n",
       "</g>\n",
       "<!-- 4&#45;&gt;5 -->\n",
       "<g id=\"edge5\" class=\"edge\">\n",
       "<title>4&#45;&gt;5</title>\n",
       "<path fill=\"none\" stroke=\"black\" d=\"M281,-88.95C281,-80.72 281,-71.85 281,-63.48\"/>\n",
       "<polygon fill=\"black\" stroke=\"black\" points=\"284.5,-63.24 281,-53.24 277.5,-63.24 284.5,-63.24\"/>\n",
       "</g>\n",
       "<!-- 6 -->\n",
       "<g id=\"node7\" class=\"node\">\n",
       "<title>6</title>\n",
       "<path fill=\"#e58139\" stroke=\"black\" d=\"M434,-53C434,-53 360,-53 360,-53 354,-53 348,-47 348,-41 348,-41 348,-12 348,-12 348,-6 354,0 360,0 360,0 434,0 434,0 440,0 446,-6 446,-12 446,-12 446,-41 446,-41 446,-47 440,-53 434,-53\"/>\n",
       "<text text-anchor=\"start\" x=\"359\" y=\"-37.8\" font-family=\"helvetica\" font-size=\"14.00\">mse = 0.522</text>\n",
       "<text text-anchor=\"start\" x=\"359.5\" y=\"-22.8\" font-family=\"helvetica\" font-size=\"14.00\">samples = 6</text>\n",
       "<text text-anchor=\"start\" x=\"356\" y=\"-7.8\" font-family=\"helvetica\" font-size=\"14.00\">value = 8.602</text>\n",
       "</g>\n",
       "<!-- 4&#45;&gt;6 -->\n",
       "<g id=\"edge6\" class=\"edge\">\n",
       "<title>4&#45;&gt;6</title>\n",
       "<path fill=\"none\" stroke=\"black\" d=\"M321.57,-88.95C333.25,-79.43 345.97,-69.07 357.58,-59.62\"/>\n",
       "<polygon fill=\"black\" stroke=\"black\" points=\"359.87,-62.27 365.41,-53.24 355.44,-56.84 359.87,-62.27\"/>\n",
       "</g>\n",
       "</g>\n",
       "</svg>\n"
      ],
      "text/plain": [
       "<graphviz.files.Source at 0x7f1e58d6ce50>"
      ]
     },
     "execution_count": 7,
     "metadata": {},
     "output_type": "execute_result"
    }
   ],
   "source": [
    "dot_data = export_graphviz(regressor, out_file=None, feature_names='X', class_names='Y', filled=True, rounded=True, special_characters=True)\n",
    "graph = graph_from_dot_data(dot_data)\n",
    "graph.write_pdf(\"regressor1.pdf\")\n",
    "Source(dot_data)"
   ]
  }
 ],
 "metadata": {
  "kernelspec": {
   "display_name": "Python 3",
   "language": "python",
   "name": "python3"
  },
  "language_info": {
   "codemirror_mode": {
    "name": "ipython",
    "version": 3
   },
   "file_extension": ".py",
   "mimetype": "text/x-python",
   "name": "python",
   "nbconvert_exporter": "python",
   "pygments_lexer": "ipython3",
   "version": "3.9.1"
  }
 },
 "nbformat": 4,
 "nbformat_minor": 4
}
