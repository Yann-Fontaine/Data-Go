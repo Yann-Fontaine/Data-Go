{
 "cells": [
  {
   "cell_type": "code",
   "execution_count": 1,
   "metadata": {},
   "outputs": [],
   "source": [
    "import numpy as np\n",
    "from sklearn.datasets import load_iris\n",
    "from sklearn.model_selection import train_test_split\n",
    "from sklearn.tree import DecisionTreeClassifier, plot_tree, export_graphviz\n",
    "from sklearn.model_selection import cross_val_predict\n",
    "from sklearn.metrics import precision_score, recall_score, f1_score, auc, precision_recall_curve, confusion_matrix,plot_confusion_matrix, plot_precision_recall_curve,roc_auc_score, roc_curve, plot_roc_curve\n",
    "from graphviz import Source\n",
    "from pydotplus import graph_from_dot_data\n",
    "from mlxtend.plotting import plot_decision_regions"
   ]
  },
  {
   "cell_type": "markdown",
   "metadata": {},
   "source": [
    "# EXERCISES 1 - 5"
   ]
  },
  {
   "cell_type": "code",
   "execution_count": 2,
   "metadata": {},
   "outputs": [],
   "source": [
    "X, y = load_iris(return_X_y=True) \n",
    "X_train, X_test, y_train, y_test = train_test_split( X[:, [2,3]], y, test_size=0.25, random_state=0)"
   ]
  },
  {
   "cell_type": "code",
   "execution_count": 3,
   "metadata": {},
   "outputs": [
    {
     "data": {
      "text/plain": [
       "array([[37,  0,  0],\n",
       "       [ 0, 31,  3],\n",
       "       [ 0,  3, 38]])"
      ]
     },
     "execution_count": 3,
     "metadata": {},
     "output_type": "execute_result"
    }
   ],
   "source": [
    "DTC_model = DecisionTreeClassifier(max_depth=2)\n",
    "DTC_model = DTC_model.fit(X_train, y_train)\n",
    "y_pred = cross_val_predict(DTC_model, X_train, y_train)\n",
    "confusion_matrix(y_train, y_pred)"
   ]
  },
  {
   "cell_type": "code",
   "execution_count": 4,
   "metadata": {},
   "outputs": [
    {
     "data": {
      "text/plain": [
       "0.9461979913916786"
      ]
     },
     "execution_count": 4,
     "metadata": {},
     "output_type": "execute_result"
    }
   ],
   "source": [
    "f1_score(y_train, y_pred, average='macro')"
   ]
  },
  {
   "cell_type": "code",
   "execution_count": 5,
   "metadata": {},
   "outputs": [
    {
     "data": {
      "text/plain": [
       "array([[0.        , 0.02564103, 0.97435897],\n",
       "       [0.        , 0.91666667, 0.08333333],\n",
       "       [1.        , 0.        , 0.        ],\n",
       "       [0.        , 0.02564103, 0.97435897],\n",
       "       [1.        , 0.        , 0.        ],\n",
       "       [0.        , 0.02564103, 0.97435897],\n",
       "       [1.        , 0.        , 0.        ],\n",
       "       [0.        , 0.91666667, 0.08333333],\n",
       "       [0.        , 0.91666667, 0.08333333],\n",
       "       [0.        , 0.91666667, 0.08333333],\n",
       "       [0.        , 0.02564103, 0.97435897],\n",
       "       [0.        , 0.91666667, 0.08333333],\n",
       "       [0.        , 0.91666667, 0.08333333],\n",
       "       [0.        , 0.91666667, 0.08333333],\n",
       "       [0.        , 0.91666667, 0.08333333],\n",
       "       [1.        , 0.        , 0.        ],\n",
       "       [0.        , 0.91666667, 0.08333333],\n",
       "       [0.        , 0.91666667, 0.08333333],\n",
       "       [1.        , 0.        , 0.        ],\n",
       "       [1.        , 0.        , 0.        ],\n",
       "       [0.        , 0.91666667, 0.08333333],\n",
       "       [0.        , 0.91666667, 0.08333333],\n",
       "       [1.        , 0.        , 0.        ],\n",
       "       [1.        , 0.        , 0.        ],\n",
       "       [0.        , 0.91666667, 0.08333333],\n",
       "       [1.        , 0.        , 0.        ],\n",
       "       [1.        , 0.        , 0.        ],\n",
       "       [0.        , 0.91666667, 0.08333333],\n",
       "       [0.        , 0.91666667, 0.08333333],\n",
       "       [1.        , 0.        , 0.        ],\n",
       "       [0.        , 0.02564103, 0.97435897],\n",
       "       [0.        , 0.91666667, 0.08333333],\n",
       "       [1.        , 0.        , 0.        ],\n",
       "       [0.        , 0.91666667, 0.08333333],\n",
       "       [0.        , 0.02564103, 0.97435897],\n",
       "       [0.        , 0.91666667, 0.08333333],\n",
       "       [1.        , 0.        , 0.        ],\n",
       "       [0.        , 0.02564103, 0.97435897]])"
      ]
     },
     "execution_count": 5,
     "metadata": {},
     "output_type": "execute_result"
    }
   ],
   "source": [
    "predict = DTC_model.predict(X_test)\n",
    "predict_proba = DTC_model.predict_proba(X_test)\n",
    "predict_proba"
   ]
  },
  {
   "cell_type": "code",
   "execution_count": 6,
   "metadata": {},
   "outputs": [
    {
     "data": {
      "text/plain": [
       "[Text(133.92000000000002, 181.2, 'X[1] <= 0.8\\ngini = 0.665\\nsamples = 112\\nvalue = [37, 34, 41]'),\n",
       " Text(66.96000000000001, 108.72, 'gini = 0.0\\nsamples = 37\\nvalue = [37, 0, 0]'),\n",
       " Text(200.88000000000002, 108.72, 'X[0] <= 4.95\\ngini = 0.496\\nsamples = 75\\nvalue = [0, 34, 41]'),\n",
       " Text(133.92000000000002, 36.23999999999998, 'gini = 0.153\\nsamples = 36\\nvalue = [0, 33, 3]'),\n",
       " Text(267.84000000000003, 36.23999999999998, 'gini = 0.05\\nsamples = 39\\nvalue = [0, 1, 38]')]"
      ]
     },
     "execution_count": 6,
     "metadata": {},
     "output_type": "execute_result"
    },
    {
     "data": {
      "image/png": "[encoded data removed]",
      "text/plain": [
       "<Figure size 432x288 with 1 Axes>"
      ]
     },
     "metadata": {
      "needs_background": "light"
     },
     "output_type": "display_data"
    }
   ],
   "source": [
    "plot_tree(DTC_model)"
   ]
  },
  {
   "cell_type": "code",
   "execution_count": 7,
   "metadata": {},
   "outputs": [
    {
     "data": {
      "image/svg+xml": [
       "<?xml version=\"1.0\" encoding=\"UTF-8\" standalone=\"no\"?>\n",
       "<!DOCTYPE svg PUBLIC \"-//W3C//DTD SVG 1.1//EN\"\n",
       " \"http://www.w3.org/Graphics/SVG/1.1/DTD/svg11.dtd\">\n",
       "<!-- Generated by graphviz version 2.44.0 (0)\n",
       " -->\n",
       "<!-- Title: Tree Pages: 1 -->\n",
       "<svg width=\"371pt\" height=\"314pt\"\n",
       " viewBox=\"0.00 0.00 371.00 314.00\" xmlns=\"http://www.w3.org/2000/svg\" xmlns:xlink=\"http://www.w3.org/1999/xlink\">\n",
       "<g id=\"graph0\" class=\"graph\" transform=\"scale(1 1) rotate(0) translate(4 310)\">\n",
       "<title>Tree</title>\n",
       "<polygon fill=\"white\" stroke=\"transparent\" points=\"-4,4 -4,-310 367,-310 367,4 -4,4\"/>\n",
       "<!-- 0 -->\n",
       "<g id=\"node1\" class=\"node\">\n",
       "<title>0</title>\n",
       "<path fill=\"#f8f4fe\" stroke=\"black\" d=\"M195,-306C195,-306 82,-306 82,-306 76,-306 70,-300 70,-294 70,-294 70,-235 70,-235 70,-229 76,-223 82,-223 82,-223 195,-223 195,-223 201,-223 207,-229 207,-235 207,-235 207,-294 207,-294 207,-300 201,-306 195,-306\"/>\n",
       "<text text-anchor=\"start\" x=\"86.5\" y=\"-290.8\" font-family=\"helvetica\" font-size=\"14.00\">Petal Width ≤ 0.8</text>\n",
       "<text text-anchor=\"start\" x=\"103\" y=\"-275.8\" font-family=\"helvetica\" font-size=\"14.00\">gini = 0.665</text>\n",
       "<text text-anchor=\"start\" x=\"93.5\" y=\"-260.8\" font-family=\"helvetica\" font-size=\"14.00\">samples = 112</text>\n",
       "<text text-anchor=\"start\" x=\"80.5\" y=\"-245.8\" font-family=\"helvetica\" font-size=\"14.00\">value = [37, 34, 41]</text>\n",
       "<text text-anchor=\"start\" x=\"78\" y=\"-230.8\" font-family=\"helvetica\" font-size=\"14.00\">class = Iris Virginica</text>\n",
       "</g>\n",
       "<!-- 1 -->\n",
       "<g id=\"node2\" class=\"node\">\n",
       "<title>1</title>\n",
       "<path fill=\"#e58139\" stroke=\"black\" d=\"M115,-179.5C115,-179.5 12,-179.5 12,-179.5 6,-179.5 0,-173.5 0,-167.5 0,-167.5 0,-123.5 0,-123.5 0,-117.5 6,-111.5 12,-111.5 12,-111.5 115,-111.5 115,-111.5 121,-111.5 127,-117.5 127,-123.5 127,-123.5 127,-167.5 127,-167.5 127,-173.5 121,-179.5 115,-179.5\"/>\n",
       "<text text-anchor=\"start\" x=\"35.5\" y=\"-164.3\" font-family=\"helvetica\" font-size=\"14.00\">gini = 0.0</text>\n",
       "<text text-anchor=\"start\" x=\"22.5\" y=\"-149.3\" font-family=\"helvetica\" font-size=\"14.00\">samples = 37</text>\n",
       "<text text-anchor=\"start\" x=\"13\" y=\"-134.3\" font-family=\"helvetica\" font-size=\"14.00\">value = [37, 0, 0]</text>\n",
       "<text text-anchor=\"start\" x=\"8\" y=\"-119.3\" font-family=\"helvetica\" font-size=\"14.00\">class = Iris Setosa</text>\n",
       "</g>\n",
       "<!-- 0&#45;&gt;1 -->\n",
       "<g id=\"edge1\" class=\"edge\">\n",
       "<title>0&#45;&gt;1</title>\n",
       "<path fill=\"none\" stroke=\"black\" d=\"M112.48,-222.91C105.26,-211.65 97.42,-199.42 90.17,-188.11\"/>\n",
       "<polygon fill=\"black\" stroke=\"black\" points=\"93.1,-186.2 84.76,-179.67 87.21,-189.97 93.1,-186.2\"/>\n",
       "<text text-anchor=\"middle\" x=\"79.42\" y=\"-200.39\" font-family=\"helvetica\" font-size=\"14.00\">True</text>\n",
       "</g>\n",
       "<!-- 2 -->\n",
       "<g id=\"node3\" class=\"node\">\n",
       "<title>2</title>\n",
       "<path fill=\"#e9ddfb\" stroke=\"black\" d=\"M270,-187C270,-187 157,-187 157,-187 151,-187 145,-181 145,-175 145,-175 145,-116 145,-116 145,-110 151,-104 157,-104 157,-104 270,-104 270,-104 276,-104 282,-110 282,-116 282,-116 282,-175 282,-175 282,-181 276,-187 270,-187\"/>\n",
       "<text text-anchor=\"start\" x=\"154.5\" y=\"-171.8\" font-family=\"helvetica\" font-size=\"14.00\">Petal Length ≤ 4.95</text>\n",
       "<text text-anchor=\"start\" x=\"178\" y=\"-156.8\" font-family=\"helvetica\" font-size=\"14.00\">gini = 0.496</text>\n",
       "<text text-anchor=\"start\" x=\"172.5\" y=\"-141.8\" font-family=\"helvetica\" font-size=\"14.00\">samples = 75</text>\n",
       "<text text-anchor=\"start\" x=\"159\" y=\"-126.8\" font-family=\"helvetica\" font-size=\"14.00\">value = [0, 34, 41]</text>\n",
       "<text text-anchor=\"start\" x=\"153\" y=\"-111.8\" font-family=\"helvetica\" font-size=\"14.00\">class = Iris Virginica</text>\n",
       "</g>\n",
       "<!-- 0&#45;&gt;2 -->\n",
       "<g id=\"edge2\" class=\"edge\">\n",
       "<title>0&#45;&gt;2</title>\n",
       "<path fill=\"none\" stroke=\"black\" d=\"M164.52,-222.91C170.16,-214.1 176.19,-204.7 182.02,-195.61\"/>\n",
       "<polygon fill=\"black\" stroke=\"black\" points=\"185.07,-197.33 187.53,-187.02 179.18,-193.55 185.07,-197.33\"/>\n",
       "<text text-anchor=\"middle\" x=\"192.87\" y=\"-207.74\" font-family=\"helvetica\" font-size=\"14.00\">False</text>\n",
       "</g>\n",
       "<!-- 3 -->\n",
       "<g id=\"node4\" class=\"node\">\n",
       "<title>3</title>\n",
       "<path fill=\"#4be78c\" stroke=\"black\" d=\"M195.5,-68C195.5,-68 67.5,-68 67.5,-68 61.5,-68 55.5,-62 55.5,-56 55.5,-56 55.5,-12 55.5,-12 55.5,-6 61.5,0 67.5,0 67.5,0 195.5,0 195.5,0 201.5,0 207.5,-6 207.5,-12 207.5,-12 207.5,-56 207.5,-56 207.5,-62 201.5,-68 195.5,-68\"/>\n",
       "<text text-anchor=\"start\" x=\"96\" y=\"-52.8\" font-family=\"helvetica\" font-size=\"14.00\">gini = 0.153</text>\n",
       "<text text-anchor=\"start\" x=\"90.5\" y=\"-37.8\" font-family=\"helvetica\" font-size=\"14.00\">samples = 36</text>\n",
       "<text text-anchor=\"start\" x=\"81\" y=\"-22.8\" font-family=\"helvetica\" font-size=\"14.00\">value = [0, 33, 3]</text>\n",
       "<text text-anchor=\"start\" x=\"63.5\" y=\"-7.8\" font-family=\"helvetica\" font-size=\"14.00\">class = Iris Versicolour</text>\n",
       "</g>\n",
       "<!-- 2&#45;&gt;3 -->\n",
       "<g id=\"edge3\" class=\"edge\">\n",
       "<title>2&#45;&gt;3</title>\n",
       "<path fill=\"none\" stroke=\"black\" d=\"M182.97,-103.73C176.27,-94.79 169.18,-85.32 162.47,-76.36\"/>\n",
       "<polygon fill=\"black\" stroke=\"black\" points=\"165.23,-74.21 156.44,-68.3 159.63,-78.4 165.23,-74.21\"/>\n",
       "</g>\n",
       "<!-- 4 -->\n",
       "<g id=\"node5\" class=\"node\">\n",
       "<title>4</title>\n",
       "<path fill=\"#843ee6\" stroke=\"black\" d=\"M351,-68C351,-68 238,-68 238,-68 232,-68 226,-62 226,-56 226,-56 226,-12 226,-12 226,-6 232,0 238,0 238,0 351,0 351,0 357,0 363,-6 363,-12 363,-12 363,-56 363,-56 363,-62 357,-68 351,-68\"/>\n",
       "<text text-anchor=\"start\" x=\"262.5\" y=\"-52.8\" font-family=\"helvetica\" font-size=\"14.00\">gini = 0.05</text>\n",
       "<text text-anchor=\"start\" x=\"253.5\" y=\"-37.8\" font-family=\"helvetica\" font-size=\"14.00\">samples = 39</text>\n",
       "<text text-anchor=\"start\" x=\"244\" y=\"-22.8\" font-family=\"helvetica\" font-size=\"14.00\">value = [0, 1, 38]</text>\n",
       "<text text-anchor=\"start\" x=\"234\" y=\"-7.8\" font-family=\"helvetica\" font-size=\"14.00\">class = Iris Virginica</text>\n",
       "</g>\n",
       "<!-- 2&#45;&gt;4 -->\n",
       "<g id=\"edge4\" class=\"edge\">\n",
       "<title>2&#45;&gt;4</title>\n",
       "<path fill=\"none\" stroke=\"black\" d=\"M243.66,-103.73C250.27,-94.79 257.28,-85.32 263.91,-76.36\"/>\n",
       "<polygon fill=\"black\" stroke=\"black\" points=\"266.73,-78.42 269.87,-68.3 261.11,-74.26 266.73,-78.42\"/>\n",
       "</g>\n",
       "</g>\n",
       "</svg>\n"
      ],
      "text/plain": [
       "<graphviz.files.Source at 0x7f8376537730>"
      ]
     },
     "execution_count": 7,
     "metadata": {},
     "output_type": "execute_result"
    }
   ],
   "source": [
    "dot_data = export_graphviz(DTC_model, out_file=None, feature_names=['Petal Length', 'Petal Width'], class_names=['Iris Setosa', 'Iris Versicolour', 'Iris Virginica'], filled=True, rounded=True, special_characters=True)\n",
    "graph = graph_from_dot_data(dot_data)\n",
    "graph.write_pdf(\"iris.pdf\")\n",
    "Source(dot_data)"
   ]
  },
  {
   "cell_type": "code",
   "execution_count": 8,
   "metadata": {},
   "outputs": [
    {
     "data": {
      "text/plain": [
       "<AxesSubplot:>"
      ]
     },
     "execution_count": 8,
     "metadata": {},
     "output_type": "execute_result"
    },
    {
     "data": {
      "image/png": "[encoded data removed]",
      "text/plain": [
       "<Figure size 432x288 with 1 Axes>"
      ]
     },
     "metadata": {
      "needs_background": "light"
     },
     "output_type": "display_data"
    }
   ],
   "source": [
    "plot_decision_regions(X_test, y_test, DTC_model, legend=2)"
   ]
  }
 ],
 "metadata": {
  "kernelspec": {
   "display_name": "Python 3",
   "language": "python",
   "name": "python3"
  },
  "language_info": {
   "codemirror_mode": {
    "name": "ipython",
    "version": 3
   },
   "file_extension": ".py",
   "mimetype": "text/x-python",
   "name": "python",
   "nbconvert_exporter": "python",
   "pygments_lexer": "ipython3",
   "version": "3.8.5"
  }
 },
 "nbformat": 4,
 "nbformat_minor": 4
}
