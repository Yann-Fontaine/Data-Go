{
 "cells": [
  {
   "cell_type": "markdown",
   "metadata": {},
   "source": [
    "# EXERCISE 01"
   ]
  },
  {
   "cell_type": "markdown",
   "metadata": {},
   "source": [
    "1/ Import Requests"
   ]
  },
  {
   "cell_type": "code",
   "execution_count": 1,
   "metadata": {},
   "outputs": [],
   "source": [
    "import requests"
   ]
  },
  {
   "cell_type": "markdown",
   "metadata": {},
   "source": [
    "2/ Store the API token"
   ]
  },
  {
   "cell_type": "code",
   "execution_count": 2,
   "metadata": {},
   "outputs": [],
   "source": [
    "token = 'eyJ0eXAiOiJKV1QiLCJub25jZSI6IlJNQ3doR1BRWDIwMWx3eXJZSkpoUkdOYUoybDF6RVpYTVdTcUxZT3ZNYWciLCJhbGciOiJSUzI1NiIsIng1dCI6IjVPZjlQNUY5Z0NDd0NtRjJCT0hIeEREUS1EayIsImtpZCI6IjVPZjlQNUY5Z0NDd0NtRjJCT0hIeEREUS1EayJ9.eyJhdWQiOiIwMDAwMDAwMy0wMDAwLTAwMDAtYzAwMC0wMDAwMDAwMDAwMDAiLCJpc3MiOiJodHRwczovL3N0cy53aW5kb3dzLm5ldC85MDFjYjRjYS1iODYyLTQwMjktOTMwNi1lNWNkMGY2ZDlmODYvIiwiaWF0IjoxNjA4MTUwNTUwLCJuYmYiOjE2MDgxNTA1NTAsImV4cCI6MTYwODE1NDQ1MCwiYWNjdCI6MCwiYWNyIjoiMSIsImFjcnMiOlsidXJuOnVzZXI6cmVnaXN0ZXJzZWN1cml0eWluZm8iLCJ1cm46bWljcm9zb2Z0OnJlcTEiLCJ1cm46bWljcm9zb2Z0OnJlcTIiLCJ1cm46bWljcm9zb2Z0OnJlcTMiLCJjMSIsImMyIiwiYzMiLCJjNCIsImM1IiwiYzYiLCJjNyIsImM4IiwiYzkiLCJjMTAiLCJjMTEiLCJjMTIiLCJjMTMiLCJjMTQiLCJjMTUiLCJjMTYiLCJjMTciLCJjMTgiLCJjMTkiLCJjMjAiLCJjMjEiLCJjMjIiLCJjMjMiLCJjMjQiLCJjMjUiXSwiYWlvIjoiQVVRQXUvOFNBQUFBWWxSYldjb0xpb1lXcGdVem03VUsxYWo3VDlVMkdXeGMvbVVJNWNwSFpaVXVWdno3NmJMRkovaFBBdTFkN1JBcHB3OTU1NWNrRXoyb2tkanhHcnVTMnc9PSIsImFtciI6WyJwd2QiLCJtZmEiXSwiYXBwX2Rpc3BsYXluYW1lIjoiR3JhcGggZXhwbG9yZXIgKG9mZmljaWFsIHNpdGUpIiwiYXBwaWQiOiJkZThiYzhiNS1kOWY5LTQ4YjEtYThhZC1iNzQ4ZGE3MjUwNjQiLCJhcHBpZGFjciI6IjAiLCJmYW1pbHlfbmFtZSI6IkZvbnRhaW5lIiwiZ2l2ZW5fbmFtZSI6Illhbm4iLCJpZHR5cCI6InVzZXIiLCJpcGFkZHIiOiI4Mi4yNTMuMjMwLjEyMiIsIm5hbWUiOiJZYW5uIEZvbnRhaW5lIiwib2lkIjoiZTc0ZWZiODQtNmQ4NC00YmZjLTkwN2MtOTdlMGZlNDVmOTY5Iiwib25wcmVtX3NpZCI6IlMtMS01LTIxLTE1NTI0MzUyNzctMTU5NjQ5NTc5NS0zMDg5NjEzNzMxLTQwODgyIiwicGxhdGYiOiIxNCIsInB1aWQiOiIxMDAzMjAwMEU5OUQ0MDA2IiwicmgiOiIwLkFBQUF5clFja0dLNEtVQ1RCdVhORDIyZmhyWElpOTc1MmJGSXFLMjNTTnB5VUdSMEFDby4iLCJzY3AiOiJHcm91cC5SZWFkLkFsbCBHcm91cC5SZWFkV3JpdGUuQWxsIG9wZW5pZCBwcm9maWxlIFVzZXIuUmVhZCBlbWFpbCIsInNpZ25pbl9zdGF0ZSI6WyJrbXNpIl0sInN1YiI6ImFJS29xbDJGdEpmZmtYeEQ5Zk9HdmhxRk5uREl0SFNDNkZwXzFSUkowUlkiLCJ0ZW5hbnRfcmVnaW9uX3Njb3BlIjoiRVUiLCJ0aWQiOiI5MDFjYjRjYS1iODYyLTQwMjktOTMwNi1lNWNkMGY2ZDlmODYiLCJ1bmlxdWVfbmFtZSI6Inlhbm4uZm9udGFpbmVAZXBpdGVjaC5ldSIsInVwbiI6Inlhbm4uZm9udGFpbmVAZXBpdGVjaC5ldSIsInV0aSI6IkJ3MUVaaWRNMkVxOVBtaXpfbzREQUEiLCJ2ZXIiOiIxLjAiLCJ3aWRzIjpbImI3OWZiZjRkLTNlZjktNDY4OS04MTQzLTc2YjE5NGU4NTUwOSJdLCJ4bXNfc3QiOnsic3ViIjoiVl85bVJCeVdsb05YN2VtcVkwaEZxdDY0am5kUEZGZ0wwWTNZOXhXX2xCOCJ9LCJ4bXNfdGNkdCI6MTQxNzgwNDg4N30.JIIP-0A5FCRxnN_5zbe0ANa4cDbi39yigv6tVEfhy6yqgBKBYsgQF8-ojTBgwfjstZ9krABor2To9I_-CL6fLwQLgituZJ1BIkothNll5VV3lj5uI4XrVFnOcZm40sUHLzPCTTkdqQv_75rj2NUd5M7qcArDsllwQf8hgthEj6iwi3PvEeweVRPwH92NoAtmjsRlVifXRnPgHHtIx-h3I6_NUArLDRw0g_QQJVqIhnLmRHkg7RZGAa4U11UWFczVadMuJLTWoIePOeh2YVwwqEcicVJrNvqNjV0s9BVe5G4axvn5bQjFaIgG-shdk38DCUMpuMNJ70ZR4wEVENJjsw'"
   ]
  },
  {
   "cell_type": "markdown",
   "metadata": {},
   "source": [
    "3/ Create a getter function from Teams API"
   ]
  },
  {
   "cell_type": "code",
   "execution_count": 3,
   "metadata": {},
   "outputs": [],
   "source": [
    "def memberOf():\n",
    "    #requesting the API\n",
    "    r = requests.get('https://graph.microsoft.com/beta/me/memberOf', headers={'Authorization': token})\n",
    "    #formatting the json\n",
    "    r_dict = r.json()\n",
    "    #fetching the right key\n",
    "    r_values = r_dict['value']\n",
    "    #creating a result array outside the function (otherwise it would have been overwritten at each iteration)\n",
    "    res = {}\n",
    "    #using a loop to fetch all iterations of data\n",
    "    for value in r_values:\n",
    "        #creating a result key:value object\n",
    "        res[value['displayName']] = value['id']\n",
    "        #appending the result array with the result object\n",
    "    #returning the result array\n",
    "    return res"
   ]
  },
  {
   "cell_type": "markdown",
   "metadata": {},
   "source": [
    "4/ Call the function memberOf"
   ]
  },
  {
   "cell_type": "code",
   "execution_count": 4,
   "metadata": {},
   "outputs": [
    {
     "name": "stdout",
     "output_type": "stream",
     "text": [
      "{'[MRS] Dev&go': '670f71a9-df13-4b92-80ae-eb7dc5099041', 'Dev&Go_Natio': 'ccdcefda-37a2-4b51-9891-d2a6e80a6427', 'Spé DATA / IA #1220': 'e20b4cd7-91be-48ab-ac8d-fe46abd1b6ad'}\n",
      "[MRS] Dev&go\n",
      "Dev&Go_Natio\n",
      "Spé DATA / IA #1220\n"
     ]
    }
   ],
   "source": [
    "teams = memberOf()\n",
    "print(teams)\n",
    "for team in teams :\n",
    "    print(team)"
   ]
  },
  {
   "cell_type": "markdown",
   "metadata": {},
   "source": [
    "# EXERCISE 02"
   ]
  },
  {
   "cell_type": "markdown",
   "metadata": {},
   "source": [
    "1/ Create a channel getter that takes a TeamId as parameter"
   ]
  },
  {
   "cell_type": "code",
   "execution_count": 5,
   "metadata": {},
   "outputs": [],
   "source": [
    "def getChannels(teamId):\n",
    "    #storing the teamId\n",
    "    team_id = teamId\n",
    "    #requesting the API\n",
    "    r = requests.get('https://graph.microsoft.com/beta/teams/{}/channels'.format(team_id), headers={'Authorization': token})\n",
    "    #formatting the json\n",
    "    r_dict=r.json()\n",
    "        #fetching the right key\n",
    "    r_values=r_dict['value']\n",
    "    #creating a result object outside the function (otherwise it would have been overwritten at each iteration)\n",
    "    res = {}\n",
    "    #using a loop to fetch all iterations of data\n",
    "    for value in r_values:\n",
    "        #appending the datas in a key:value object\n",
    "        res[value['displayName']] = value['id']\n",
    "    #returning the result object\n",
    "    return res"
   ]
  },
  {
   "cell_type": "markdown",
   "metadata": {},
   "source": [
    "2/ Call the function getChannels(teamId)"
   ]
  },
  {
   "cell_type": "code",
   "execution_count": 6,
   "metadata": {
    "scrolled": true
   },
   "outputs": [
    {
     "name": "stdout",
     "output_type": "stream",
     "text": [
      "{'General': '19:860d4f4a79cd4932a4a3daa29db8f784@thread.tacv2', 'C-DAT-100 - Python Data Structure': '19:36be2edc99144232a0819f8ec29a8055@thread.tacv2', 'C-DAT-100 - Python Data Structure Yet Again': '19:972cb074d0b94cc6b6fb1e2394ab1e69@thread.tacv2', 'C-DAT-100 - HTTP Requests': '19:d7f803282158482abebd31b264ae4c68@thread.tacv2', 'C-DAT-100 - Web Scraping': '19:090a3e6fd21f4a17ac8832e65d61a0c7@thread.tacv2', 'C-DAT-100 - HTTP Server': '19:dddfd7fdfefa4c909ab8afe560ce87bc@thread.tacv2', 'Groupe 03': '19:81dc314389154e1998411bf683932381@thread.tacv2'}\n",
      "General\n",
      "C-DAT-100 - Python Data Structure\n",
      "C-DAT-100 - Python Data Structure Yet Again\n",
      "C-DAT-100 - HTTP Requests\n",
      "C-DAT-100 - Web Scraping\n",
      "C-DAT-100 - HTTP Server\n",
      "Groupe 03\n"
     ]
    }
   ],
   "source": [
    "channels = getChannels('e20b4cd7-91be-48ab-ac8d-fe46abd1b6ad')\n",
    "print(channels)\n",
    "for channel in channels:\n",
    "    print(channel)"
   ]
  },
  {
   "cell_type": "markdown",
   "metadata": {},
   "source": [
    "# EXERCISE 3"
   ]
  },
  {
   "cell_type": "markdown",
   "metadata": {},
   "source": [
    "1/Create a getter for messages and reply from a team's channel"
   ]
  },
  {
   "cell_type": "code",
   "execution_count": 7,
   "metadata": {},
   "outputs": [],
   "source": [
    "def getMessages(teamId, channelId):\n",
    "    #storing the teamId\n",
    "    team_id = teamId\n",
    "    channel_id = channelId\n",
    "    #requesting the messages API\n",
    "    r_mess = requests.get('https://graph.microsoft.com/beta/teams/{}/channels/{}/messages'.format(team_id, channel_id), headers={'Authorization': token})\n",
    "    #formatting the messages json\n",
    "    r_messDict=r_mess.json()\n",
    "    #fetching the right key\n",
    "    r_values=r_messDict['value']\n",
    "    #creating a result array outside the function (otherwise it would have been overwritten at each iteration)\n",
    "    array_res= []\n",
    "    #using a loop to fetch all iterations of data\n",
    "    for value in r_values:\n",
    "        #creating a key:value object to store messages data\n",
    "        res = {}\n",
    "        res['id'] = value['id']\n",
    "        res['createdDateTime'] = value['createdDateTime']\n",
    "        res['userName'] = value['from']['user']['displayName']\n",
    "        res['userId'] = value['from']['user']['id']\n",
    "        res['content'] = value['body']['content']\n",
    "        #creating an array to store replies \n",
    "        res['replies'] = []\n",
    "        #fetching replies from API\n",
    "        r_rep = requests.get('https://graph.microsoft.com/beta/teams/{}/channels/{}/messages/{}/replies'.format(team_id, channel_id, res['id']), headers={'Authorization': token})\n",
    "        r_repDict = r_rep.json()\n",
    "        r_repValues = r_repDict['value']\n",
    "        #using a loop to fetch all iterations of data\n",
    "        for replies in r_repValues:\n",
    "            #creating a key:value object to store replies data\n",
    "            rep = {}\n",
    "            rep['id'] = value['id']\n",
    "            rep['createdDateTime'] = value['createdDateTime']\n",
    "            rep['userName'] = value['from']['user']['displayName']\n",
    "            rep['userId'] = value['from']['user']['id']\n",
    "            rep['content'] = value['body']['content']\n",
    "            res['replies'].append(rep)\n",
    "        array_res.append(res)\n",
    "    #returning the result array\n",
    "    return(array_res)\n"
   ]
  },
  {
   "cell_type": "markdown",
   "metadata": {},
   "source": [
    "2/ Call the function getMessages(teamId, channelId)"
   ]
  },
  {
   "cell_type": "code",
   "execution_count": 8,
   "metadata": {},
   "outputs": [
    {
     "name": "stdout",
     "output_type": "stream",
     "text": [
      "[{'id': '1608134375757', 'createdDateTime': '2020-12-16T15:59:35.757Z', 'userName': 'Benoit Spriet', 'userId': '84b2934f-1f59-49e7-ad12-08f04b66b7b6', 'content': \"yoann j'ai oublier a quel heure et ou se pass la conférence sur l'éthique dont tu nous a parlé cet aprem?\", 'replies': [{'id': '1608134375757', 'createdDateTime': '2020-12-16T15:59:35.757Z', 'userName': 'Benoit Spriet', 'userId': '84b2934f-1f59-49e7-ad12-08f04b66b7b6', 'content': \"yoann j'ai oublier a quel heure et ou se pass la conférence sur l'éthique dont tu nous a parlé cet aprem?\"}, {'id': '1608134375757', 'createdDateTime': '2020-12-16T15:59:35.757Z', 'userName': 'Benoit Spriet', 'userId': '84b2934f-1f59-49e7-ad12-08f04b66b7b6', 'content': \"yoann j'ai oublier a quel heure et ou se pass la conférence sur l'éthique dont tu nous a parlé cet aprem?\"}]}, {'id': '1608134801088', 'createdDateTime': '2020-12-16T16:06:41.088Z', 'userName': 'Matthieu Gabas', 'userId': '195d5507-ef82-48fe-b46b-499f4500413d', 'content': '', 'replies': []}, {'id': '1608105531059', 'createdDateTime': '2020-12-16T07:58:51.059Z', 'userName': 'Yoann Long', 'userId': 'fe144cf4-ba41-4f1c-abfa-cd777aecb199', 'content': '<div>Un nouvel onglet a été ajouté en haut de ce canal. Voici un lien pour y accéder.</div><attachment id=\"tab::ea49c306-e30e-4dcc-a701-2061df3355fd\"></attachment>', 'replies': []}, {'id': '1607969652764', 'createdDateTime': '2020-12-14T18:14:12.764Z', 'userName': 'Yoann Long', 'userId': 'fe144cf4-ba41-4f1c-abfa-cd777aecb199', 'content': 'Quelqu’un peut me confirmer s’il voit le repo sur GitHub ? Vous savez faire : faut aller dans organization puis cliqué sur EpitechIT2020', 'replies': [{'id': '1607969652764', 'createdDateTime': '2020-12-14T18:14:12.764Z', 'userName': 'Yoann Long', 'userId': 'fe144cf4-ba41-4f1c-abfa-cd777aecb199', 'content': 'Quelqu’un peut me confirmer s’il voit le repo sur GitHub ? Vous savez faire : faut aller dans organization puis cliqué sur EpitechIT2020'}, {'id': '1607969652764', 'createdDateTime': '2020-12-14T18:14:12.764Z', 'userName': 'Yoann Long', 'userId': 'fe144cf4-ba41-4f1c-abfa-cd777aecb199', 'content': 'Quelqu’un peut me confirmer s’il voit le repo sur GitHub ? Vous savez faire : faut aller dans organization puis cliqué sur EpitechIT2020'}, {'id': '1607969652764', 'createdDateTime': '2020-12-14T18:14:12.764Z', 'userName': 'Yoann Long', 'userId': 'fe144cf4-ba41-4f1c-abfa-cd777aecb199', 'content': 'Quelqu’un peut me confirmer s’il voit le repo sur GitHub ? Vous savez faire : faut aller dans organization puis cliqué sur EpitechIT2020'}, {'id': '1607969652764', 'createdDateTime': '2020-12-14T18:14:12.764Z', 'userName': 'Yoann Long', 'userId': 'fe144cf4-ba41-4f1c-abfa-cd777aecb199', 'content': 'Quelqu’un peut me confirmer s’il voit le repo sur GitHub ? Vous savez faire : faut aller dans organization puis cliqué sur EpitechIT2020'}, {'id': '1607969652764', 'createdDateTime': '2020-12-14T18:14:12.764Z', 'userName': 'Yoann Long', 'userId': 'fe144cf4-ba41-4f1c-abfa-cd777aecb199', 'content': 'Quelqu’un peut me confirmer s’il voit le repo sur GitHub ? Vous savez faire : faut aller dans organization puis cliqué sur EpitechIT2020'}, {'id': '1607969652764', 'createdDateTime': '2020-12-14T18:14:12.764Z', 'userName': 'Yoann Long', 'userId': 'fe144cf4-ba41-4f1c-abfa-cd777aecb199', 'content': 'Quelqu’un peut me confirmer s’il voit le repo sur GitHub ? Vous savez faire : faut aller dans organization puis cliqué sur EpitechIT2020'}, {'id': '1607969652764', 'createdDateTime': '2020-12-14T18:14:12.764Z', 'userName': 'Yoann Long', 'userId': 'fe144cf4-ba41-4f1c-abfa-cd777aecb199', 'content': 'Quelqu’un peut me confirmer s’il voit le repo sur GitHub ? Vous savez faire : faut aller dans organization puis cliqué sur EpitechIT2020'}, {'id': '1607969652764', 'createdDateTime': '2020-12-14T18:14:12.764Z', 'userName': 'Yoann Long', 'userId': 'fe144cf4-ba41-4f1c-abfa-cd777aecb199', 'content': 'Quelqu’un peut me confirmer s’il voit le repo sur GitHub ? Vous savez faire : faut aller dans organization puis cliqué sur EpitechIT2020'}, {'id': '1607969652764', 'createdDateTime': '2020-12-14T18:14:12.764Z', 'userName': 'Yoann Long', 'userId': 'fe144cf4-ba41-4f1c-abfa-cd777aecb199', 'content': 'Quelqu’un peut me confirmer s’il voit le repo sur GitHub ? Vous savez faire : faut aller dans organization puis cliqué sur EpitechIT2020'}, {'id': '1607969652764', 'createdDateTime': '2020-12-14T18:14:12.764Z', 'userName': 'Yoann Long', 'userId': 'fe144cf4-ba41-4f1c-abfa-cd777aecb199', 'content': 'Quelqu’un peut me confirmer s’il voit le repo sur GitHub ? Vous savez faire : faut aller dans organization puis cliqué sur EpitechIT2020'}, {'id': '1607969652764', 'createdDateTime': '2020-12-14T18:14:12.764Z', 'userName': 'Yoann Long', 'userId': 'fe144cf4-ba41-4f1c-abfa-cd777aecb199', 'content': 'Quelqu’un peut me confirmer s’il voit le repo sur GitHub ? Vous savez faire : faut aller dans organization puis cliqué sur EpitechIT2020'}, {'id': '1607969652764', 'createdDateTime': '2020-12-14T18:14:12.764Z', 'userName': 'Yoann Long', 'userId': 'fe144cf4-ba41-4f1c-abfa-cd777aecb199', 'content': 'Quelqu’un peut me confirmer s’il voit le repo sur GitHub ? Vous savez faire : faut aller dans organization puis cliqué sur EpitechIT2020'}]}, {'id': '1607958734957', 'createdDateTime': '2020-12-14T15:12:14.957Z', 'userName': 'Benoit Spriet', 'userId': '84b2934f-1f59-49e7-ad12-08f04b66b7b6', 'content': \"j'ai un problème pour l'exercice 3, je n'arrive pas à importer mon fichier .json il me dit qu'il n'y a pas de fichiers ou de dossiers correspondant (alors que j'ai bien sur crée un fichier .json dans le même dossier que mon fichier python)\", 'replies': [{'id': '1607958734957', 'createdDateTime': '2020-12-14T15:12:14.957Z', 'userName': 'Benoit Spriet', 'userId': '84b2934f-1f59-49e7-ad12-08f04b66b7b6', 'content': \"j'ai un problème pour l'exercice 3, je n'arrive pas à importer mon fichier .json il me dit qu'il n'y a pas de fichiers ou de dossiers correspondant (alors que j'ai bien sur crée un fichier .json dans le même dossier que mon fichier python)\"}, {'id': '1607958734957', 'createdDateTime': '2020-12-14T15:12:14.957Z', 'userName': 'Benoit Spriet', 'userId': '84b2934f-1f59-49e7-ad12-08f04b66b7b6', 'content': \"j'ai un problème pour l'exercice 3, je n'arrive pas à importer mon fichier .json il me dit qu'il n'y a pas de fichiers ou de dossiers correspondant (alors que j'ai bien sur crée un fichier .json dans le même dossier que mon fichier python)\"}, {'id': '1607958734957', 'createdDateTime': '2020-12-14T15:12:14.957Z', 'userName': 'Benoit Spriet', 'userId': '84b2934f-1f59-49e7-ad12-08f04b66b7b6', 'content': \"j'ai un problème pour l'exercice 3, je n'arrive pas à importer mon fichier .json il me dit qu'il n'y a pas de fichiers ou de dossiers correspondant (alors que j'ai bien sur crée un fichier .json dans le même dossier que mon fichier python)\"}, {'id': '1607958734957', 'createdDateTime': '2020-12-14T15:12:14.957Z', 'userName': 'Benoit Spriet', 'userId': '84b2934f-1f59-49e7-ad12-08f04b66b7b6', 'content': \"j'ai un problème pour l'exercice 3, je n'arrive pas à importer mon fichier .json il me dit qu'il n'y a pas de fichiers ou de dossiers correspondant (alors que j'ai bien sur crée un fichier .json dans le même dossier que mon fichier python)\"}, {'id': '1607958734957', 'createdDateTime': '2020-12-14T15:12:14.957Z', 'userName': 'Benoit Spriet', 'userId': '84b2934f-1f59-49e7-ad12-08f04b66b7b6', 'content': \"j'ai un problème pour l'exercice 3, je n'arrive pas à importer mon fichier .json il me dit qu'il n'y a pas de fichiers ou de dossiers correspondant (alors que j'ai bien sur crée un fichier .json dans le même dossier que mon fichier python)\"}, {'id': '1607958734957', 'createdDateTime': '2020-12-14T15:12:14.957Z', 'userName': 'Benoit Spriet', 'userId': '84b2934f-1f59-49e7-ad12-08f04b66b7b6', 'content': \"j'ai un problème pour l'exercice 3, je n'arrive pas à importer mon fichier .json il me dit qu'il n'y a pas de fichiers ou de dossiers correspondant (alors que j'ai bien sur crée un fichier .json dans le même dossier que mon fichier python)\"}, {'id': '1607958734957', 'createdDateTime': '2020-12-14T15:12:14.957Z', 'userName': 'Benoit Spriet', 'userId': '84b2934f-1f59-49e7-ad12-08f04b66b7b6', 'content': \"j'ai un problème pour l'exercice 3, je n'arrive pas à importer mon fichier .json il me dit qu'il n'y a pas de fichiers ou de dossiers correspondant (alors que j'ai bien sur crée un fichier .json dans le même dossier que mon fichier python)\"}, {'id': '1607958734957', 'createdDateTime': '2020-12-14T15:12:14.957Z', 'userName': 'Benoit Spriet', 'userId': '84b2934f-1f59-49e7-ad12-08f04b66b7b6', 'content': \"j'ai un problème pour l'exercice 3, je n'arrive pas à importer mon fichier .json il me dit qu'il n'y a pas de fichiers ou de dossiers correspondant (alors que j'ai bien sur crée un fichier .json dans le même dossier que mon fichier python)\"}, {'id': '1607958734957', 'createdDateTime': '2020-12-14T15:12:14.957Z', 'userName': 'Benoit Spriet', 'userId': '84b2934f-1f59-49e7-ad12-08f04b66b7b6', 'content': \"j'ai un problème pour l'exercice 3, je n'arrive pas à importer mon fichier .json il me dit qu'il n'y a pas de fichiers ou de dossiers correspondant (alors que j'ai bien sur crée un fichier .json dans le même dossier que mon fichier python)\"}, {'id': '1607958734957', 'createdDateTime': '2020-12-14T15:12:14.957Z', 'userName': 'Benoit Spriet', 'userId': '84b2934f-1f59-49e7-ad12-08f04b66b7b6', 'content': \"j'ai un problème pour l'exercice 3, je n'arrive pas à importer mon fichier .json il me dit qu'il n'y a pas de fichiers ou de dossiers correspondant (alors que j'ai bien sur crée un fichier .json dans le même dossier que mon fichier python)\"}, {'id': '1607958734957', 'createdDateTime': '2020-12-14T15:12:14.957Z', 'userName': 'Benoit Spriet', 'userId': '84b2934f-1f59-49e7-ad12-08f04b66b7b6', 'content': \"j'ai un problème pour l'exercice 3, je n'arrive pas à importer mon fichier .json il me dit qu'il n'y a pas de fichiers ou de dossiers correspondant (alors que j'ai bien sur crée un fichier .json dans le même dossier que mon fichier python)\"}, {'id': '1607958734957', 'createdDateTime': '2020-12-14T15:12:14.957Z', 'userName': 'Benoit Spriet', 'userId': '84b2934f-1f59-49e7-ad12-08f04b66b7b6', 'content': \"j'ai un problème pour l'exercice 3, je n'arrive pas à importer mon fichier .json il me dit qu'il n'y a pas de fichiers ou de dossiers correspondant (alors que j'ai bien sur crée un fichier .json dans le même dossier que mon fichier python)\"}, {'id': '1607958734957', 'createdDateTime': '2020-12-14T15:12:14.957Z', 'userName': 'Benoit Spriet', 'userId': '84b2934f-1f59-49e7-ad12-08f04b66b7b6', 'content': \"j'ai un problème pour l'exercice 3, je n'arrive pas à importer mon fichier .json il me dit qu'il n'y a pas de fichiers ou de dossiers correspondant (alors que j'ai bien sur crée un fichier .json dans le même dossier que mon fichier python)\"}, {'id': '1607958734957', 'createdDateTime': '2020-12-14T15:12:14.957Z', 'userName': 'Benoit Spriet', 'userId': '84b2934f-1f59-49e7-ad12-08f04b66b7b6', 'content': \"j'ai un problème pour l'exercice 3, je n'arrive pas à importer mon fichier .json il me dit qu'il n'y a pas de fichiers ou de dossiers correspondant (alors que j'ai bien sur crée un fichier .json dans le même dossier que mon fichier python)\"}, {'id': '1607958734957', 'createdDateTime': '2020-12-14T15:12:14.957Z', 'userName': 'Benoit Spriet', 'userId': '84b2934f-1f59-49e7-ad12-08f04b66b7b6', 'content': \"j'ai un problème pour l'exercice 3, je n'arrive pas à importer mon fichier .json il me dit qu'il n'y a pas de fichiers ou de dossiers correspondant (alors que j'ai bien sur crée un fichier .json dans le même dossier que mon fichier python)\"}, {'id': '1607958734957', 'createdDateTime': '2020-12-14T15:12:14.957Z', 'userName': 'Benoit Spriet', 'userId': '84b2934f-1f59-49e7-ad12-08f04b66b7b6', 'content': \"j'ai un problème pour l'exercice 3, je n'arrive pas à importer mon fichier .json il me dit qu'il n'y a pas de fichiers ou de dossiers correspondant (alors que j'ai bien sur crée un fichier .json dans le même dossier que mon fichier python)\"}, {'id': '1607958734957', 'createdDateTime': '2020-12-14T15:12:14.957Z', 'userName': 'Benoit Spriet', 'userId': '84b2934f-1f59-49e7-ad12-08f04b66b7b6', 'content': \"j'ai un problème pour l'exercice 3, je n'arrive pas à importer mon fichier .json il me dit qu'il n'y a pas de fichiers ou de dossiers correspondant (alors que j'ai bien sur crée un fichier .json dans le même dossier que mon fichier python)\"}]}, {'id': '1607968080124', 'createdDateTime': '2020-12-14T17:48:00.124Z', 'userName': 'François Steffen', 'userId': '2b1443c1-eb77-495b-924a-c88241a2bd57', 'content': \"heu.. je ne comprends pas tout a fait l'ex 3 : on part avec quelles données test ? Il faut d'abord créer une fonction qui crée des dics ??\\xa0\\xa0qq'un est dispo pour un peu d'aide ?\", 'replies': [{'id': '1607968080124', 'createdDateTime': '2020-12-14T17:48:00.124Z', 'userName': 'François Steffen', 'userId': '2b1443c1-eb77-495b-924a-c88241a2bd57', 'content': \"heu.. je ne comprends pas tout a fait l'ex 3 : on part avec quelles données test ? Il faut d'abord créer une fonction qui crée des dics ??\\xa0\\xa0qq'un est dispo pour un peu d'aide ?\"}]}, {'id': '1607957320888', 'createdDateTime': '2020-12-14T14:48:40.888Z', 'userName': 'Yoann Long', 'userId': 'fe144cf4-ba41-4f1c-abfa-cd777aecb199', 'content': '<div><div>m\\'oubliez pas pour les groupes <span class=\"animated-emoticon-20-smile\" title=\"Smiley\" type=\"(smile)\"><img itemid=\"smile\" itemscope=\"\" itemtype=\"http://schema.skype.com/Emoji\" src=\"https://statics.teams.cdn.office.net/evergreen-assets/skype/v2/smile/20.png\" alt=\"🙂\" style=\"width:20px; height:20px\"></span>&nbsp;vous êtes 11 donc il y aura forcément un gorupe de 3</div>\\n</div>', 'replies': [{'id': '1607957320888', 'createdDateTime': '2020-12-14T14:48:40.888Z', 'userName': 'Yoann Long', 'userId': 'fe144cf4-ba41-4f1c-abfa-cd777aecb199', 'content': '<div><div>m\\'oubliez pas pour les groupes <span class=\"animated-emoticon-20-smile\" title=\"Smiley\" type=\"(smile)\"><img itemid=\"smile\" itemscope=\"\" itemtype=\"http://schema.skype.com/Emoji\" src=\"https://statics.teams.cdn.office.net/evergreen-assets/skype/v2/smile/20.png\" alt=\"🙂\" style=\"width:20px; height:20px\"></span>&nbsp;vous êtes 11 donc il y aura forcément un gorupe de 3</div>\\n</div>'}, {'id': '1607957320888', 'createdDateTime': '2020-12-14T14:48:40.888Z', 'userName': 'Yoann Long', 'userId': 'fe144cf4-ba41-4f1c-abfa-cd777aecb199', 'content': '<div><div>m\\'oubliez pas pour les groupes <span class=\"animated-emoticon-20-smile\" title=\"Smiley\" type=\"(smile)\"><img itemid=\"smile\" itemscope=\"\" itemtype=\"http://schema.skype.com/Emoji\" src=\"https://statics.teams.cdn.office.net/evergreen-assets/skype/v2/smile/20.png\" alt=\"🙂\" style=\"width:20px; height:20px\"></span>&nbsp;vous êtes 11 donc il y aura forcément un gorupe de 3</div>\\n</div>'}, {'id': '1607957320888', 'createdDateTime': '2020-12-14T14:48:40.888Z', 'userName': 'Yoann Long', 'userId': 'fe144cf4-ba41-4f1c-abfa-cd777aecb199', 'content': '<div><div>m\\'oubliez pas pour les groupes <span class=\"animated-emoticon-20-smile\" title=\"Smiley\" type=\"(smile)\"><img itemid=\"smile\" itemscope=\"\" itemtype=\"http://schema.skype.com/Emoji\" src=\"https://statics.teams.cdn.office.net/evergreen-assets/skype/v2/smile/20.png\" alt=\"🙂\" style=\"width:20px; height:20px\"></span>&nbsp;vous êtes 11 donc il y aura forcément un gorupe de 3</div>\\n</div>'}, {'id': '1607957320888', 'createdDateTime': '2020-12-14T14:48:40.888Z', 'userName': 'Yoann Long', 'userId': 'fe144cf4-ba41-4f1c-abfa-cd777aecb199', 'content': '<div><div>m\\'oubliez pas pour les groupes <span class=\"animated-emoticon-20-smile\" title=\"Smiley\" type=\"(smile)\"><img itemid=\"smile\" itemscope=\"\" itemtype=\"http://schema.skype.com/Emoji\" src=\"https://statics.teams.cdn.office.net/evergreen-assets/skype/v2/smile/20.png\" alt=\"🙂\" style=\"width:20px; height:20px\"></span>&nbsp;vous êtes 11 donc il y aura forcément un gorupe de 3</div>\\n</div>'}, {'id': '1607957320888', 'createdDateTime': '2020-12-14T14:48:40.888Z', 'userName': 'Yoann Long', 'userId': 'fe144cf4-ba41-4f1c-abfa-cd777aecb199', 'content': '<div><div>m\\'oubliez pas pour les groupes <span class=\"animated-emoticon-20-smile\" title=\"Smiley\" type=\"(smile)\"><img itemid=\"smile\" itemscope=\"\" itemtype=\"http://schema.skype.com/Emoji\" src=\"https://statics.teams.cdn.office.net/evergreen-assets/skype/v2/smile/20.png\" alt=\"🙂\" style=\"width:20px; height:20px\"></span>&nbsp;vous êtes 11 donc il y aura forcément un gorupe de 3</div>\\n</div>'}, {'id': '1607957320888', 'createdDateTime': '2020-12-14T14:48:40.888Z', 'userName': 'Yoann Long', 'userId': 'fe144cf4-ba41-4f1c-abfa-cd777aecb199', 'content': '<div><div>m\\'oubliez pas pour les groupes <span class=\"animated-emoticon-20-smile\" title=\"Smiley\" type=\"(smile)\"><img itemid=\"smile\" itemscope=\"\" itemtype=\"http://schema.skype.com/Emoji\" src=\"https://statics.teams.cdn.office.net/evergreen-assets/skype/v2/smile/20.png\" alt=\"🙂\" style=\"width:20px; height:20px\"></span>&nbsp;vous êtes 11 donc il y aura forcément un gorupe de 3</div>\\n</div>'}]}, {'id': '1607956100081', 'createdDateTime': '2020-12-14T14:28:20.081Z', 'userName': 'Yoann Long', 'userId': 'fe144cf4-ba41-4f1c-abfa-cd777aecb199', 'content': '<div><div><at id=\"0\">Général</at>&nbsp;c\\'est tout bon pour l\\'intra, vous devriez voir ce planning, pensez à bien cocher les cases des filtres&nbsp;</div>\\n</div><attachment id=\"c9d2129f-7db6-4931-bdf7-64772e579e18\"></attachment>', 'replies': [{'id': '1607956100081', 'createdDateTime': '2020-12-14T14:28:20.081Z', 'userName': 'Yoann Long', 'userId': 'fe144cf4-ba41-4f1c-abfa-cd777aecb199', 'content': '<div><div><at id=\"0\">Général</at>&nbsp;c\\'est tout bon pour l\\'intra, vous devriez voir ce planning, pensez à bien cocher les cases des filtres&nbsp;</div>\\n</div><attachment id=\"c9d2129f-7db6-4931-bdf7-64772e579e18\"></attachment>'}, {'id': '1607956100081', 'createdDateTime': '2020-12-14T14:28:20.081Z', 'userName': 'Yoann Long', 'userId': 'fe144cf4-ba41-4f1c-abfa-cd777aecb199', 'content': '<div><div><at id=\"0\">Général</at>&nbsp;c\\'est tout bon pour l\\'intra, vous devriez voir ce planning, pensez à bien cocher les cases des filtres&nbsp;</div>\\n</div><attachment id=\"c9d2129f-7db6-4931-bdf7-64772e579e18\"></attachment>'}, {'id': '1607956100081', 'createdDateTime': '2020-12-14T14:28:20.081Z', 'userName': 'Yoann Long', 'userId': 'fe144cf4-ba41-4f1c-abfa-cd777aecb199', 'content': '<div><div><at id=\"0\">Général</at>&nbsp;c\\'est tout bon pour l\\'intra, vous devriez voir ce planning, pensez à bien cocher les cases des filtres&nbsp;</div>\\n</div><attachment id=\"c9d2129f-7db6-4931-bdf7-64772e579e18\"></attachment>'}, {'id': '1607956100081', 'createdDateTime': '2020-12-14T14:28:20.081Z', 'userName': 'Yoann Long', 'userId': 'fe144cf4-ba41-4f1c-abfa-cd777aecb199', 'content': '<div><div><at id=\"0\">Général</at>&nbsp;c\\'est tout bon pour l\\'intra, vous devriez voir ce planning, pensez à bien cocher les cases des filtres&nbsp;</div>\\n</div><attachment id=\"c9d2129f-7db6-4931-bdf7-64772e579e18\"></attachment>'}, {'id': '1607956100081', 'createdDateTime': '2020-12-14T14:28:20.081Z', 'userName': 'Yoann Long', 'userId': 'fe144cf4-ba41-4f1c-abfa-cd777aecb199', 'content': '<div><div><at id=\"0\">Général</at>&nbsp;c\\'est tout bon pour l\\'intra, vous devriez voir ce planning, pensez à bien cocher les cases des filtres&nbsp;</div>\\n</div><attachment id=\"c9d2129f-7db6-4931-bdf7-64772e579e18\"></attachment>'}, {'id': '1607956100081', 'createdDateTime': '2020-12-14T14:28:20.081Z', 'userName': 'Yoann Long', 'userId': 'fe144cf4-ba41-4f1c-abfa-cd777aecb199', 'content': '<div><div><at id=\"0\">Général</at>&nbsp;c\\'est tout bon pour l\\'intra, vous devriez voir ce planning, pensez à bien cocher les cases des filtres&nbsp;</div>\\n</div><attachment id=\"c9d2129f-7db6-4931-bdf7-64772e579e18\"></attachment>'}, {'id': '1607956100081', 'createdDateTime': '2020-12-14T14:28:20.081Z', 'userName': 'Yoann Long', 'userId': 'fe144cf4-ba41-4f1c-abfa-cd777aecb199', 'content': '<div><div><at id=\"0\">Général</at>&nbsp;c\\'est tout bon pour l\\'intra, vous devriez voir ce planning, pensez à bien cocher les cases des filtres&nbsp;</div>\\n</div><attachment id=\"c9d2129f-7db6-4931-bdf7-64772e579e18\"></attachment>'}, {'id': '1607956100081', 'createdDateTime': '2020-12-14T14:28:20.081Z', 'userName': 'Yoann Long', 'userId': 'fe144cf4-ba41-4f1c-abfa-cd777aecb199', 'content': '<div><div><at id=\"0\">Général</at>&nbsp;c\\'est tout bon pour l\\'intra, vous devriez voir ce planning, pensez à bien cocher les cases des filtres&nbsp;</div>\\n</div><attachment id=\"c9d2129f-7db6-4931-bdf7-64772e579e18\"></attachment>'}, {'id': '1607956100081', 'createdDateTime': '2020-12-14T14:28:20.081Z', 'userName': 'Yoann Long', 'userId': 'fe144cf4-ba41-4f1c-abfa-cd777aecb199', 'content': '<div><div><at id=\"0\">Général</at>&nbsp;c\\'est tout bon pour l\\'intra, vous devriez voir ce planning, pensez à bien cocher les cases des filtres&nbsp;</div>\\n</div><attachment id=\"c9d2129f-7db6-4931-bdf7-64772e579e18\"></attachment>'}, {'id': '1607956100081', 'createdDateTime': '2020-12-14T14:28:20.081Z', 'userName': 'Yoann Long', 'userId': 'fe144cf4-ba41-4f1c-abfa-cd777aecb199', 'content': '<div><div><at id=\"0\">Général</at>&nbsp;c\\'est tout bon pour l\\'intra, vous devriez voir ce planning, pensez à bien cocher les cases des filtres&nbsp;</div>\\n</div><attachment id=\"c9d2129f-7db6-4931-bdf7-64772e579e18\"></attachment>'}, {'id': '1607956100081', 'createdDateTime': '2020-12-14T14:28:20.081Z', 'userName': 'Yoann Long', 'userId': 'fe144cf4-ba41-4f1c-abfa-cd777aecb199', 'content': '<div><div><at id=\"0\">Général</at>&nbsp;c\\'est tout bon pour l\\'intra, vous devriez voir ce planning, pensez à bien cocher les cases des filtres&nbsp;</div>\\n</div><attachment id=\"c9d2129f-7db6-4931-bdf7-64772e579e18\"></attachment>'}, {'id': '1607956100081', 'createdDateTime': '2020-12-14T14:28:20.081Z', 'userName': 'Yoann Long', 'userId': 'fe144cf4-ba41-4f1c-abfa-cd777aecb199', 'content': '<div><div><at id=\"0\">Général</at>&nbsp;c\\'est tout bon pour l\\'intra, vous devriez voir ce planning, pensez à bien cocher les cases des filtres&nbsp;</div>\\n</div><attachment id=\"c9d2129f-7db6-4931-bdf7-64772e579e18\"></attachment>'}, {'id': '1607956100081', 'createdDateTime': '2020-12-14T14:28:20.081Z', 'userName': 'Yoann Long', 'userId': 'fe144cf4-ba41-4f1c-abfa-cd777aecb199', 'content': '<div><div><at id=\"0\">Général</at>&nbsp;c\\'est tout bon pour l\\'intra, vous devriez voir ce planning, pensez à bien cocher les cases des filtres&nbsp;</div>\\n</div><attachment id=\"c9d2129f-7db6-4931-bdf7-64772e579e18\"></attachment>'}, {'id': '1607956100081', 'createdDateTime': '2020-12-14T14:28:20.081Z', 'userName': 'Yoann Long', 'userId': 'fe144cf4-ba41-4f1c-abfa-cd777aecb199', 'content': '<div><div><at id=\"0\">Général</at>&nbsp;c\\'est tout bon pour l\\'intra, vous devriez voir ce planning, pensez à bien cocher les cases des filtres&nbsp;</div>\\n</div><attachment id=\"c9d2129f-7db6-4931-bdf7-64772e579e18\"></attachment>'}]}, {'id': '1607956873870', 'createdDateTime': '2020-12-14T14:41:13.87Z', 'userName': 'Yoann Long', 'userId': 'fe144cf4-ba41-4f1c-abfa-cd777aecb199', 'content': '<div><div><at id=\"0\">Général</at> je viens de lancer les mails de signature pour ce matin&nbsp;</div>\\n</div>', 'replies': [{'id': '1607956873870', 'createdDateTime': '2020-12-14T14:41:13.87Z', 'userName': 'Yoann Long', 'userId': 'fe144cf4-ba41-4f1c-abfa-cd777aecb199', 'content': '<div><div><at id=\"0\">Général</at> je viens de lancer les mails de signature pour ce matin&nbsp;</div>\\n</div>'}, {'id': '1607956873870', 'createdDateTime': '2020-12-14T14:41:13.87Z', 'userName': 'Yoann Long', 'userId': 'fe144cf4-ba41-4f1c-abfa-cd777aecb199', 'content': '<div><div><at id=\"0\">Général</at> je viens de lancer les mails de signature pour ce matin&nbsp;</div>\\n</div>'}, {'id': '1607956873870', 'createdDateTime': '2020-12-14T14:41:13.87Z', 'userName': 'Yoann Long', 'userId': 'fe144cf4-ba41-4f1c-abfa-cd777aecb199', 'content': '<div><div><at id=\"0\">Général</at> je viens de lancer les mails de signature pour ce matin&nbsp;</div>\\n</div>'}]}, {'id': '1607940415363', 'createdDateTime': '2020-12-14T10:06:55.363Z', 'userName': 'Yoann Long', 'userId': 'fe144cf4-ba41-4f1c-abfa-cd777aecb199', 'content': '<div><div>Les slides de la réunion de rentrée de ce matin 9h - 10h, pour ceux qui n\\'étaient pas là, hésitez pas à regarder les slides et poser des questions sur les parties qui vous interesse <at id=\"0\">Général</at></div>\\n</div><attachment id=\"889144a9-9e07-4411-a7dc-86f5460e8f71\"></attachment>', 'replies': [{'id': '1607940415363', 'createdDateTime': '2020-12-14T10:06:55.363Z', 'userName': 'Yoann Long', 'userId': 'fe144cf4-ba41-4f1c-abfa-cd777aecb199', 'content': '<div><div>Les slides de la réunion de rentrée de ce matin 9h - 10h, pour ceux qui n\\'étaient pas là, hésitez pas à regarder les slides et poser des questions sur les parties qui vous interesse <at id=\"0\">Général</at></div>\\n</div><attachment id=\"889144a9-9e07-4411-a7dc-86f5460e8f71\"></attachment>'}, {'id': '1607940415363', 'createdDateTime': '2020-12-14T10:06:55.363Z', 'userName': 'Yoann Long', 'userId': 'fe144cf4-ba41-4f1c-abfa-cd777aecb199', 'content': '<div><div>Les slides de la réunion de rentrée de ce matin 9h - 10h, pour ceux qui n\\'étaient pas là, hésitez pas à regarder les slides et poser des questions sur les parties qui vous interesse <at id=\"0\">Général</at></div>\\n</div><attachment id=\"889144a9-9e07-4411-a7dc-86f5460e8f71\"></attachment>'}, {'id': '1607940415363', 'createdDateTime': '2020-12-14T10:06:55.363Z', 'userName': 'Yoann Long', 'userId': 'fe144cf4-ba41-4f1c-abfa-cd777aecb199', 'content': '<div><div>Les slides de la réunion de rentrée de ce matin 9h - 10h, pour ceux qui n\\'étaient pas là, hésitez pas à regarder les slides et poser des questions sur les parties qui vous interesse <at id=\"0\">Général</at></div>\\n</div><attachment id=\"889144a9-9e07-4411-a7dc-86f5460e8f71\"></attachment>'}, {'id': '1607940415363', 'createdDateTime': '2020-12-14T10:06:55.363Z', 'userName': 'Yoann Long', 'userId': 'fe144cf4-ba41-4f1c-abfa-cd777aecb199', 'content': '<div><div>Les slides de la réunion de rentrée de ce matin 9h - 10h, pour ceux qui n\\'étaient pas là, hésitez pas à regarder les slides et poser des questions sur les parties qui vous interesse <at id=\"0\">Général</at></div>\\n</div><attachment id=\"889144a9-9e07-4411-a7dc-86f5460e8f71\"></attachment>'}, {'id': '1607940415363', 'createdDateTime': '2020-12-14T10:06:55.363Z', 'userName': 'Yoann Long', 'userId': 'fe144cf4-ba41-4f1c-abfa-cd777aecb199', 'content': '<div><div>Les slides de la réunion de rentrée de ce matin 9h - 10h, pour ceux qui n\\'étaient pas là, hésitez pas à regarder les slides et poser des questions sur les parties qui vous interesse <at id=\"0\">Général</at></div>\\n</div><attachment id=\"889144a9-9e07-4411-a7dc-86f5460e8f71\"></attachment>'}, {'id': '1607940415363', 'createdDateTime': '2020-12-14T10:06:55.363Z', 'userName': 'Yoann Long', 'userId': 'fe144cf4-ba41-4f1c-abfa-cd777aecb199', 'content': '<div><div>Les slides de la réunion de rentrée de ce matin 9h - 10h, pour ceux qui n\\'étaient pas là, hésitez pas à regarder les slides et poser des questions sur les parties qui vous interesse <at id=\"0\">Général</at></div>\\n</div><attachment id=\"889144a9-9e07-4411-a7dc-86f5460e8f71\"></attachment>'}]}, {'id': '1607936629053', 'createdDateTime': '2020-12-14T09:03:49.053Z', 'userName': 'Mohammed Toualbia', 'userId': '0b16d9de-b6a4-47b2-bacb-c2f83ea125ed', 'content': 'Y a t il eu un enregistrement de fait pour la réunion de ce matin?', 'replies': [{'id': '1607936629053', 'createdDateTime': '2020-12-14T09:03:49.053Z', 'userName': 'Mohammed Toualbia', 'userId': '0b16d9de-b6a4-47b2-bacb-c2f83ea125ed', 'content': 'Y a t il eu un enregistrement de fait pour la réunion de ce matin?'}, {'id': '1607936629053', 'createdDateTime': '2020-12-14T09:03:49.053Z', 'userName': 'Mohammed Toualbia', 'userId': '0b16d9de-b6a4-47b2-bacb-c2f83ea125ed', 'content': 'Y a t il eu un enregistrement de fait pour la réunion de ce matin?'}]}, {'id': '1607936811101', 'createdDateTime': '2020-12-14T09:06:51.101Z', 'userName': 'Yoann Long', 'userId': 'fe144cf4-ba41-4f1c-abfa-cd777aecb199', 'content': '<div><div><at id=\"0\">Général</at>&nbsp;quittez tous la convesation du channel Général svp&nbsp;</div>\\n</div>', 'replies': []}, {'id': '1607932988957', 'createdDateTime': '2020-12-14T08:03:08.957Z', 'userName': 'Franck Simonelli', 'userId': '2cefc9ed-7bbb-40fe-8360-edd82bb72de2', 'content': 'Bonjour!', 'replies': []}]\n"
     ]
    }
   ],
   "source": [
    "messRep = getMessages('e20b4cd7-91be-48ab-ac8d-fe46abd1b6ad', '19:860d4f4a79cd4932a4a3daa29db8f784@thread.tacv2')\n",
    "print(messRep)"
   ]
  },
  {
   "cell_type": "markdown",
   "metadata": {},
   "source": [
    "# EXERCISE 4"
   ]
  },
  {
   "cell_type": "markdown",
   "metadata": {},
   "source": [
    "1/ Import sqlalchemy"
   ]
  },
  {
   "cell_type": "code",
   "execution_count": 9,
   "metadata": {},
   "outputs": [],
   "source": [
    "from sqlalchemy import create_engine\n",
    "from sqlalchemy.orm import sessionmaker\n",
    "from sqlalchemy.orm import relationship\n",
    "from sqlalchemy.ext.declarative import declarative_base\n",
    "from sqlalchemy import Column\n",
    "from sqlalchemy import String\n",
    "from sqlalchemy import Integer\n",
    "from sqlalchemy import ForeignKey"
   ]
  },
  {
   "cell_type": "markdown",
   "metadata": {},
   "source": [
    "2/ Connect to Database"
   ]
  },
  {
   "cell_type": "code",
   "execution_count": 10,
   "metadata": {},
   "outputs": [],
   "source": [
    "engine = create_engine('sqlite:///teams_store.db')\n",
    "connection = engine.connect()\n",
    "session = sessionmaker(bind=engine)()\n",
    "Base = declarative_base()"
   ]
  },
  {
   "cell_type": "markdown",
   "metadata": {},
   "source": [
    "3/Create all our classes"
   ]
  },
  {
   "cell_type": "code",
   "execution_count": 11,
   "metadata": {},
   "outputs": [],
   "source": [
    "class Teams(Base):\n",
    "    \n",
    "    __tablename__ = 'teams'\n",
    "    \n",
    "    id = Column(Integer, primary_key=True)\n",
    "    team_name = Column(String)\n",
    "    team_id = Column(String)"
   ]
  },
  {
   "cell_type": "code",
   "execution_count": 12,
   "metadata": {},
   "outputs": [],
   "source": [
    "class Channels(Base):\n",
    "    \n",
    "    __tablename__ = 'channels'\n",
    "    \n",
    "    id = Column(Integer, primary_key=True)\n",
    "    channel_name = Column(String)\n",
    "    channel_id = Column(String)"
   ]
  },
  {
   "cell_type": "code",
   "execution_count": 13,
   "metadata": {},
   "outputs": [],
   "source": [
    "class Messages(Base):\n",
    "    \n",
    "    __tablename__ = 'messages'\n",
    "    \n",
    "    id = Column(Integer, primary_key=True)\n",
    "    message_id = Column(String)\n",
    "    message_createdDateTime = Column(String)\n",
    "    message_userName = Column(String)\n",
    "    message_userId = Column(String)\n",
    "    message_content = Column(String)\n",
    "    children = relationship('Replies')"
   ]
  },
  {
   "cell_type": "code",
   "execution_count": 14,
   "metadata": {},
   "outputs": [],
   "source": [
    "class Replies(Base):\n",
    "    \n",
    "    __tablename__ = 'replies'\n",
    "    \n",
    "    id = Column(Integer, primary_key=True)\n",
    "    message_id = Column(String, ForeignKey('messages.message_id'))\n",
    "    reply_createdDateTime = Column(String)\n",
    "    reply_userName = Column(String)\n",
    "    reply_userId = Column(String)\n",
    "    reply_content = Column(String)"
   ]
  },
  {
   "cell_type": "markdown",
   "metadata": {},
   "source": [
    "4/ Create the tables"
   ]
  },
  {
   "cell_type": "code",
   "execution_count": 15,
   "metadata": {},
   "outputs": [],
   "source": [
    "Base.metadata.create_all(engine)"
   ]
  },
  {
   "cell_type": "markdown",
   "metadata": {},
   "source": [
    "5/ Integrate the data in the database "
   ]
  },
  {
   "cell_type": "code",
   "execution_count": 16,
   "metadata": {},
   "outputs": [],
   "source": [
    "d_teams = []\n",
    "for team in teams.keys():\n",
    "    d_teams.append(Teams(team_name=team, team_id=teams[team]))\n",
    "session.add_all(d_teams)\n",
    "session.commit()"
   ]
  },
  {
   "cell_type": "code",
   "execution_count": 17,
   "metadata": {},
   "outputs": [],
   "source": [
    "d_channels = []\n",
    "for channel in channels.keys():\n",
    "    d_channels.append(Channels(channel_name=channel, channel_id=channels[channel]))\n",
    "session.add_all(d_channels)\n",
    "session.commit()"
   ]
  },
  {
   "cell_type": "code",
   "execution_count": 18,
   "metadata": {},
   "outputs": [],
   "source": [
    "d_messages = []\n",
    "d_replies = []\n",
    "for mess in messRep:\n",
    "    d_messages.append(Messages(message_id=mess['id'], message_createdDateTime=mess['createdDateTime'], message_userName = mess['userName'], message_userId = mess['userId'], message_content=mess['content']))\n",
    "    for repl in mess['replies']:\n",
    "            d_replies.append(Replies(message_id=repl['id'], reply_createdDateTime=repl['createdDateTime'], reply_userName = repl['userName'], reply_userId = repl['userId'], reply_content=repl['content']))\n",
    "session.add_all(d_messages)\n",
    "session.commit()\n",
    "session.add_all(d_replies)\n",
    "session.commit()"
   ]
  }
 ],
 "metadata": {
  "kernelspec": {
   "display_name": "Python 3",
   "language": "python",
   "name": "python3"
  },
  "language_info": {
   "codemirror_mode": {
    "name": "ipython",
    "version": 3
   },
   "file_extension": ".py",
   "mimetype": "text/x-python",
   "name": "python",
   "nbconvert_exporter": "python",
   "pygments_lexer": "ipython3",
   "version": "3.8.5"
  }
 },
 "nbformat": 4,
 "nbformat_minor": 4
}
