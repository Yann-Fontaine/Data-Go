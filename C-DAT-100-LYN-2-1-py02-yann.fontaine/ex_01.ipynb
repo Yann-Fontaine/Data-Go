{
 "cells": [
  {
   "cell_type": "markdown",
   "metadata": {},
   "source": [
    "# IMPORT PANDAS & SEABORN"
   ]
  },
  {
   "cell_type": "code",
   "execution_count": 2,
   "metadata": {},
   "outputs": [],
   "source": [
    "import pandas as pd\n",
    "import seaborn as sns"
   ]
  },
  {
   "cell_type": "markdown",
   "metadata": {},
   "source": [
    "# IMPORT CSV DATAS"
   ]
  },
  {
   "cell_type": "code",
   "execution_count": 3,
   "metadata": {
    "scrolled": false
   },
   "outputs": [
    {
     "name": "stdout",
     "output_type": "stream",
     "text": [
      "      year                    reg_name  \\\n",
      "0     2013  Provence-Alpes-Côte d'Azur   \n",
      "1     2013  Provence-Alpes-Côte d'Azur   \n",
      "2     2013  Provence-Alpes-Côte d'Azur   \n",
      "3     2013  Provence-Alpes-Côte d'Azur   \n",
      "4     2013  Provence-Alpes-Côte d'Azur   \n",
      "...    ...                         ...   \n",
      "9188  2013                  La Réunion   \n",
      "9189  2013                  La Réunion   \n",
      "9190  2013                  La Réunion   \n",
      "9191  2013                  La Réunion   \n",
      "9192  2013                  La Réunion   \n",
      "\n",
      "                                     tax_name        amount  \n",
      "0                         Charges financières  6.709871e+07  \n",
      "1                                        CVAE  2.580641e+08  \n",
      "2                          Frais de personnel  2.302554e+08  \n",
      "3                             Impôts et taxes  9.147599e+08  \n",
      "4                   Recettes d'investissement  3.356027e+08  \n",
      "...                                       ...           ...  \n",
      "9188                         Dépôts au Trésor  1.533673e+08  \n",
      "9189       Dotation globale de fonctionnement  2.834870e+07  \n",
      "9190                            Epargne brute  1.498771e+08  \n",
      "9191                       Epargne de gestion  1.608884e+08  \n",
      "9192  Recettes d'investissement hors emprunts  1.540210e+08  \n",
      "\n",
      "[9193 rows x 4 columns]\n"
     ]
    }
   ],
   "source": [
    "df = pd.read_csv('data.csv')\n",
    "print(df)"
   ]
  },
  {
   "cell_type": "markdown",
   "metadata": {},
   "source": [
    "# DISPLAY Auvergne-Rhône-Alpes/CVAE DATAS (sorted by year)"
   ]
  },
  {
   "cell_type": "code",
   "execution_count": 5,
   "metadata": {
    "scrolled": true
   },
   "outputs": [
    {
     "data": {
      "text/html": [
       "<div>\n",
       "<style scoped>\n",
       "    .dataframe tbody tr th:only-of-type {\n",
       "        vertical-align: middle;\n",
       "    }\n",
       "\n",
       "    .dataframe tbody tr th {\n",
       "        vertical-align: top;\n",
       "    }\n",
       "\n",
       "    .dataframe thead th {\n",
       "        text-align: right;\n",
       "    }\n",
       "</style>\n",
       "<table border=\"1\" class=\"dataframe\">\n",
       "  <thead>\n",
       "    <tr style=\"text-align: right;\">\n",
       "      <th></th>\n",
       "      <th>year</th>\n",
       "      <th>reg_name</th>\n",
       "      <th>tax_name</th>\n",
       "      <th>amount</th>\n",
       "    </tr>\n",
       "  </thead>\n",
       "  <tbody>\n",
       "    <tr>\n",
       "      <th>3760</th>\n",
       "      <td>2012</td>\n",
       "      <td>Auvergne-Rhône-Alpes</td>\n",
       "      <td>CVAE</td>\n",
       "      <td>3.973485e+08</td>\n",
       "    </tr>\n",
       "    <tr>\n",
       "      <th>6032</th>\n",
       "      <td>2012</td>\n",
       "      <td>Auvergne-Rhône-Alpes</td>\n",
       "      <td>CVAE</td>\n",
       "      <td>5.820822e+07</td>\n",
       "    </tr>\n",
       "    <tr>\n",
       "      <th>98</th>\n",
       "      <td>2013</td>\n",
       "      <td>Auvergne-Rhône-Alpes</td>\n",
       "      <td>CVAE</td>\n",
       "      <td>6.162003e+07</td>\n",
       "    </tr>\n",
       "    <tr>\n",
       "      <th>2790</th>\n",
       "      <td>2013</td>\n",
       "      <td>Auvergne-Rhône-Alpes</td>\n",
       "      <td>CVAE</td>\n",
       "      <td>4.198091e+08</td>\n",
       "    </tr>\n",
       "    <tr>\n",
       "      <th>2419</th>\n",
       "      <td>2014</td>\n",
       "      <td>Auvergne-Rhône-Alpes</td>\n",
       "      <td>CVAE</td>\n",
       "      <td>6.289802e+07</td>\n",
       "    </tr>\n",
       "    <tr>\n",
       "      <th>5047</th>\n",
       "      <td>2014</td>\n",
       "      <td>Auvergne-Rhône-Alpes</td>\n",
       "      <td>CVAE</td>\n",
       "      <td>4.193588e+08</td>\n",
       "    </tr>\n",
       "    <tr>\n",
       "      <th>3916</th>\n",
       "      <td>2015</td>\n",
       "      <td>Auvergne-Rhône-Alpes</td>\n",
       "      <td>CVAE</td>\n",
       "      <td>6.525826e+07</td>\n",
       "    </tr>\n",
       "    <tr>\n",
       "      <th>3926</th>\n",
       "      <td>2015</td>\n",
       "      <td>Auvergne-Rhône-Alpes</td>\n",
       "      <td>CVAE</td>\n",
       "      <td>4.333768e+08</td>\n",
       "    </tr>\n",
       "    <tr>\n",
       "      <th>7367</th>\n",
       "      <td>2016</td>\n",
       "      <td>Auvergne-Rhône-Alpes</td>\n",
       "      <td>CVAE</td>\n",
       "      <td>5.065459e+08</td>\n",
       "    </tr>\n",
       "    <tr>\n",
       "      <th>1882</th>\n",
       "      <td>2017</td>\n",
       "      <td>Auvergne-Rhône-Alpes</td>\n",
       "      <td>CVAE</td>\n",
       "      <td>1.060241e+09</td>\n",
       "    </tr>\n",
       "    <tr>\n",
       "      <th>3175</th>\n",
       "      <td>2018</td>\n",
       "      <td>Auvergne-Rhône-Alpes</td>\n",
       "      <td>CVAE</td>\n",
       "      <td>1.066618e+09</td>\n",
       "    </tr>\n",
       "    <tr>\n",
       "      <th>7496</th>\n",
       "      <td>2019</td>\n",
       "      <td>Auvergne-Rhône-Alpes</td>\n",
       "      <td>CVAE</td>\n",
       "      <td>1.136670e+09</td>\n",
       "    </tr>\n",
       "  </tbody>\n",
       "</table>\n",
       "</div>"
      ],
      "text/plain": [
       "      year              reg_name tax_name        amount\n",
       "3760  2012  Auvergne-Rhône-Alpes     CVAE  3.973485e+08\n",
       "6032  2012  Auvergne-Rhône-Alpes     CVAE  5.820822e+07\n",
       "98    2013  Auvergne-Rhône-Alpes     CVAE  6.162003e+07\n",
       "2790  2013  Auvergne-Rhône-Alpes     CVAE  4.198091e+08\n",
       "2419  2014  Auvergne-Rhône-Alpes     CVAE  6.289802e+07\n",
       "5047  2014  Auvergne-Rhône-Alpes     CVAE  4.193588e+08\n",
       "3916  2015  Auvergne-Rhône-Alpes     CVAE  6.525826e+07\n",
       "3926  2015  Auvergne-Rhône-Alpes     CVAE  4.333768e+08\n",
       "7367  2016  Auvergne-Rhône-Alpes     CVAE  5.065459e+08\n",
       "1882  2017  Auvergne-Rhône-Alpes     CVAE  1.060241e+09\n",
       "3175  2018  Auvergne-Rhône-Alpes     CVAE  1.066618e+09\n",
       "7496  2019  Auvergne-Rhône-Alpes     CVAE  1.136670e+09"
      ]
     },
     "execution_count": 5,
     "metadata": {},
     "output_type": "execute_result"
    }
   ],
   "source": [
    "special_df = df.loc[(df['reg_name'] == 'Auvergne-Rhône-Alpes') & (df['tax_name'] == 'CVAE')]\n",
    "special_df.sort_values('year')"
   ]
  },
  {
   "cell_type": "markdown",
   "metadata": {},
   "source": [
    "# LET'S GO FURTHER"
   ]
  },
  {
   "cell_type": "code",
   "execution_count": 4,
   "metadata": {},
   "outputs": [],
   "source": [
    "final_df = special_df.sort_values('year')\n",
    "small_df = final_df.groupby(df['year']).sum()\n",
    "last_df = small_df.drop(columns=['year'])\n"
   ]
  },
  {
   "cell_type": "markdown",
   "metadata": {},
   "source": [
    "SET SEABORN UP"
   ]
  },
  {
   "cell_type": "code",
   "execution_count": 5,
   "metadata": {},
   "outputs": [
    {
     "data": {
      "text/plain": [
       "<AxesSubplot:xlabel='year', ylabel='amount'>"
      ]
     },
     "execution_count": 5,
     "metadata": {},
     "output_type": "execute_result"
    },
    {
     "data": {
      "image/png": "[encoded data removed]",
      "text/plain": [
       "<Figure size 432x288 with 1 Axes>"
      ]
     },
     "metadata": {},
     "output_type": "display_data"
    }
   ],
   "source": [
    "sns.set_theme(style=\"darkgrid\")\n",
    "sns.lineplot(x=\"year\", y=\"amount\",\n",
    "             data=last_df)"
   ]
  }
 ],
 "metadata": {
  "kernelspec": {
   "display_name": "Python 3",
   "language": "python",
   "name": "python3"
  },
  "language_info": {
   "codemirror_mode": {
    "name": "ipython",
    "version": 3
   },
   "file_extension": ".py",
   "mimetype": "text/x-python",
   "name": "python",
   "nbconvert_exporter": "python",
   "pygments_lexer": "ipython3",
   "version": "3.9.0"
  }
 },
 "nbformat": 4,
 "nbformat_minor": 4
}
